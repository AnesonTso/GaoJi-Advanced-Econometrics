{
 "cells": [
  {
   "cell_type": "markdown",
   "metadata": {},
   "source": [
    "# Chapter 1 Foundation of Probability Theory\n",
    "\n",
    "#### *Aneson Tso* \n",
    "\n",
    "Feb 2, 2020 *Rev 1*"
   ]
  },
  {
   "cell_type": "markdown",
   "metadata": {},
   "source": [
    "## Random Experiments"
   ]
  },
  {
   "cell_type": "markdown",
   "metadata": {},
   "source": [
    "To investigate economic phenomenon, it's of scientific convenience to characterize it into several **repeated experiments**. When forcasting a country's GDP growth, the so called experiment is repeated each year, each yielding a GDP value for that year. We know exactly what GDP value of a given year *prior* to the current date is, whereas GDP at any year after the current date needs to be **predicted**, until that happens, yielding an *outcome*."
   ]
  },
  {
   "cell_type": "markdown",
   "metadata": {},
   "source": [
    "### Definition 1 Random Experiment"
   ]
  },
  {
   "cell_type": "markdown",
   "metadata": {},
   "source": [
    "We have mentioned some key features of **experiment**, it \n",
    "\n",
    "> has a set of possible outcomes, like GDP value;\n",
    "\n",
    "> which outcome really ocur is unknown in advance;\n",
    "\n",
    "> the only way we can figure out which outcome ocurs is to **do** the experiment and observe it."
   ]
  },
  {
   "cell_type": "markdown",
   "metadata": {},
   "source": [
    "## Basic Concepts of Probability\n",
    "\n",
    "Econometrics is built on **probability theory**, about which we'll introduce some basic concepts."
   ]
  },
  {
   "cell_type": "markdown",
   "metadata": {},
   "source": [
    "### Definition 2 Sample Space\n",
    "\n",
    "What we observe in one experiment is called an **outcome**, like your final grade in the course.\n",
    "\n",
    "Let's say this course's grading is one of *A*, *B* and *C*, then one of this three can be your grade. For instance, you get an *A* for this course, then *A* is the **outcome**, but before your score come realized, you have no idea exactly what it is, then it may be one of *A*, *B* and *C*, which combined are called **sample space**, and denoted by $S$.\n",
    "\n",
    "In other words, **sample space** is the *set* of all possible outcomes in an experiment.\n",
    "\n",
    "Each possible outcome in a sample space is called an **element**, or **sample point**. \n",
    "\n",
    "We want to draw samples from the sample space and use it to infer the property of interests of the probability associated with eah possible outcome in the sample space."
   ]
  },
  {
   "cell_type": "markdown",
   "metadata": {},
   "source": [
    "### Example 2.1"
   ]
  },
  {
   "cell_type": "markdown",
   "metadata": {},
   "source": [
    "Assume your grade can be *A*, *B* and *C*, and your confidence of *what your grade will be* is equally between these three grades, then every time you run the cell below will yield an outcome."
   ]
  },
  {
   "cell_type": "code",
   "execution_count": null,
   "metadata": {},
   "outputs": [],
   "source": [
    "S = ['A', 'B', 'C']\n",
    "your_final_grade = rand(S, 1)"
   ]
  },
  {
   "cell_type": "markdown",
   "metadata": {},
   "source": [
    "When you run the cell, one and only one of the possible outcome in the sample space gets **realized**.\n",
    "\n",
    "The process from unknow outcome to a realized outcome is the experiment.\n",
    "\n"
   ]
  },
  {
   "cell_type": "code",
   "execution_count": null,
   "metadata": {},
   "outputs": [],
   "source": []
  }
 ],
 "metadata": {
  "kernelspec": {
   "display_name": "Julia 1.3.1",
   "language": "julia",
   "name": "julia-1.3"
  },
  "language_info": {
   "file_extension": ".jl",
   "mimetype": "application/julia",
   "name": "julia",
   "version": "1.3.1"
  }
 },
 "nbformat": 4,
 "nbformat_minor": 2
}
