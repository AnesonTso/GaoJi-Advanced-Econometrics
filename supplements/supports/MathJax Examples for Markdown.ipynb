{
 "cells": [
  {
   "cell_type": "markdown",
   "metadata": {},
   "source": [
    "# MathJax for Mathematical Display in Jupyter Notebook"
   ]
  },
  {
   "cell_type": "markdown",
   "metadata": {},
   "source": [
    "## 公式展示的方式"
   ]
  },
  {
   "cell_type": "markdown",
   "metadata": {},
   "source": [
    "1. **行内模式**\n",
    "\n",
    "行内模式用于在行文间渲染公式，使用成对的`$`符号将需要在行内渲染的表达式或字符包裹起来，比如`$x=2$` $x=2$ 是 $(x-2)(x-3)=0$ 的一个解。\n",
    "\n",
    "这里，$x=2$ 和 $(x-2)(x-3)=0$ 两个公式被插入到了文字之间。\n",
    "\n",
    "2. **展示模式**\n",
    "\n",
    "展示模式用于显示整段的公式。\n",
    "\n",
    "比如，\n",
    "\n",
    " ```latex\n",
    "$$\n",
    "P(A|B)=\\frac{P(AB)}{P(B)} = \\frac{P(B|A)P(A)}{P(B)}\n",
    "$$\n",
    "```\n",
    "渲染出单行表达式：\n",
    "\n",
    "$$\n",
    "P(A|B)=\\frac{P(AB)}{P(B)} = \\frac{P(B|A)P(A)}{P(B)}\n",
    "$$\n"
   ]
  },
  {
   "cell_type": "markdown",
   "metadata": {},
   "source": [
    "---"
   ]
  },
  {
   "cell_type": "markdown",
   "metadata": {},
   "source": [
    "## 上标和下标"
   ]
  },
  {
   "cell_type": "markdown",
   "metadata": {},
   "source": [
    "直接在公式中使用数学中的次方符号`^`，便可渲染为上标，就像 $2x^2=0$ ，或者$e^{x^2}$\n",
    "\n",
    "❗️在 $e^{x^2}$ 中，指数部分为一个表达式，并非使用括号`（ ）`包裹表达式部分，而是使用`{ }`表示表达式的开始和结束。\n",
    "\n",
    "下标需要使用下划线`_`表示，就像 $x_2$"
   ]
  },
  {
   "cell_type": "markdown",
   "metadata": {},
   "source": [
    "#### 上标\n",
    "```latex\n",
    "$2x^2=0$\n",
    "```\n",
    "\n",
    "$2x^2=0$\n",
    "\n",
    "#### 下标\n",
    "```latex\n",
    "$f_{X}(x)=0$\n",
    "```\n",
    "$f_{X}(x)=0$"
   ]
  },
  {
   "cell_type": "markdown",
   "metadata": {},
   "source": [
    "---"
   ]
  },
  {
   "cell_type": "markdown",
   "metadata": {},
   "source": [
    "## 表达式"
   ]
  },
  {
   "cell_type": "markdown",
   "metadata": {},
   "source": [
    "对于特定表达式，例如表示求平方根的$\\sqrt{2}$，和表示分式的 $\\frac{a}{b}$\n",
    "\n",
    "有些符号需要参数，例如表示求*n*次方的 $\\sqrt[n]{m}$\n",
    "\n",
    "都需要使用到表示特殊排版的`\\`符号"
   ]
  },
  {
   "cell_type": "markdown",
   "metadata": {},
   "source": [
    "#### 平方根\n",
    "```latex\n",
    "$\\sqrt{2}$\n",
    "```\n",
    "\n",
    "$\\sqrt{2}$\n",
    "\n",
    "#### *n*次方\n",
    "\n",
    "```latex\n",
    "$\\sqrt[n]{m}$\n",
    "```\n",
    "\n",
    "$\\sqrt[n]{m}$"
   ]
  },
  {
   "cell_type": "markdown",
   "metadata": {},
   "source": [
    "---"
   ]
  },
  {
   "cell_type": "markdown",
   "metadata": {},
   "source": [
    "## 数学符号"
   ]
  },
  {
   "cell_type": "markdown",
   "metadata": {},
   "source": [
    "数学表达式中经常出现的符号，例如\n",
    "\n",
    "### 小写希腊字母\n",
    "$\\alpha$ \n",
    "$\\beta$ \n",
    "$\\gamma$ \n",
    "$\\delta$ \n",
    "$\\epsilon$ \n",
    "$\\zeta$ \n",
    "$\\eta$ \n",
    "$\\theta$ \n",
    "$\\iota$ \n",
    "$\\kappa$ \n",
    "$\\lambda$\n",
    "$\\mu$ \n",
    "$\\nu$ \n",
    "$\\xi$ \n",
    "$\\omicron$ \n",
    "$\\pi$ \n",
    "$\\rho$ \n",
    "$\\sigma$ \n",
    "$\\tau$ \n",
    "$\\upsilon$ \n",
    "$\\phi$ \n",
    "$\\chi$ \n",
    "$\\psi$ \n",
    "$\\omega$ \n",
    "\n",
    "### 大写希腊字母\n",
    "$A$ \n",
    "$B$ \n",
    "$\\Gamma$ \n",
    "$\\Delta$ \n",
    "$E$ \n",
    "$Z$ \n",
    "$H$ \n",
    "$\\Theta$ \n",
    "$I$ \n",
    "$K$ \n",
    "$\\Lambda$\n",
    "$M$ \n",
    "$N$ \n",
    "$\\Xi$ \n",
    "$O$ \n",
    "$\\Pi$ \n",
    "$P$ \n",
    "$\\Sigma$ \n",
    "$T$ \n",
    "$Y$ \n",
    "$\\Phi$ \n",
    "$X$ \n",
    "$\\Psi$ \n",
    "$\\Omega$ "
   ]
  },
  {
   "cell_type": "markdown",
   "metadata": {},
   "source": [
    "#### 小写希腊字母\n",
    "```latex\n",
    "$\\alpha$ \n",
    "$\\beta$ \n",
    "$\\gamma$ \n",
    "$\\delta$ \n",
    "$\\epsilon$ \n",
    "$\\zeta$ \n",
    "$\\eta$ \n",
    "$\\theta$ \n",
    "$\\iota$ \n",
    "$\\kappa$ \n",
    "$\\lambda$\n",
    "$\\mu$ \n",
    "$\\nu$ \n",
    "$\\xi$ \n",
    "$\\omicron$ \n",
    "$\\pi$ \n",
    "$\\rho$ \n",
    "$\\sigma$ \n",
    "$\\tau$ \n",
    "$\\upsilon$ \n",
    "$\\phi$ \n",
    "$\\chi$ \n",
    "$\\psi$ \n",
    "$\\omega$ \n",
    "```\n",
    "\n",
    "#### 大写希腊字母\n",
    "```latex\n",
    "$A$ \n",
    "$B$ \n",
    "$\\Gamma$ \n",
    "$\\Delta$ \n",
    "$E$ \n",
    "$Z$ \n",
    "$H$ \n",
    "$\\Theta$ \n",
    "$I$ \n",
    "$K$ \n",
    "$\\Lambda$\n",
    "$M$ \n",
    "$N$ \n",
    "$\\Xi$ \n",
    "$O$ \n",
    "$\\Pi$ \n",
    "$P$ \n",
    "$\\Sigma$ \n",
    "$T$ \n",
    "$Y$ \n",
    "$\\Phi$ \n",
    "$X$ \n",
    "$\\Psi$ \n",
    "$\\Omega$ \n",
    "```"
   ]
  },
  {
   "cell_type": "markdown",
   "metadata": {},
   "source": [
    "### 运算符号\n",
    "\n",
    "* 乘: $\\times$\n",
    "* 正负: $\\pm$\n",
    "* 并集: $\\cup$\n",
    "* 交集: $\\cap$\n",
    "* 卷积: $\\oplus$"
   ]
  },
  {
   "cell_type": "markdown",
   "metadata": {},
   "source": [
    "```latex\n",
    "乘: $\\times$\n",
    "正负: $\\pm$\n",
    "并集: $\\cup$\n",
    "交集: $\\cap$\n",
    "卷积: $\\oplus$\n",
    "```"
   ]
  },
  {
   "cell_type": "markdown",
   "metadata": {},
   "source": [
    "### 三角函数\n",
    "\n",
    "$\\sin$ $\\cos$ $\\tan$ $\\sinh$ $\\arccos$"
   ]
  },
  {
   "cell_type": "markdown",
   "metadata": {},
   "source": [
    "```latex\n",
    "$\\sin$ $\\cos$ $\\tan$ $\\sinh$ $\\arccos$\n",
    "```"
   ]
  },
  {
   "cell_type": "markdown",
   "metadata": {},
   "source": [
    "### 关系运算符\n",
    "\n",
    "$\\equiv$ $\\leq$ $\\geq$ $\\approx$ $\\neq$"
   ]
  },
  {
   "cell_type": "markdown",
   "metadata": {},
   "source": [
    "```latex\n",
    "$\\equiv$ $\\leq$ $\\geq$ $\\approx$ $\\neq$\n",
    "```"
   ]
  },
  {
   "cell_type": "markdown",
   "metadata": {},
   "source": [
    "### 其它符号\n",
    "\n",
    "$\\infty$ $\\nabla$ $\\partial$"
   ]
  },
  {
   "cell_type": "markdown",
   "metadata": {},
   "source": [
    "```latex\n",
    "$\\infty$ $\\nabla$ $\\partial$\n",
    "```"
   ]
  },
  {
   "cell_type": "markdown",
   "metadata": {},
   "source": [
    "## 积分运算\n",
    "\n",
    "$\\int_0^\\pi \\sin{x}\\,dx$\n",
    "\n",
    "❗️注意`_`如何表示“下方”的概念，而`^`如何表示“上方”的概念\n",
    "\n",
    "```latex\n",
    "$\\int_0^\\pi \\sin{x}\\,dx$\n",
    "```\n",
    "\n",
    "## 求和运算\n",
    "\n",
    "$\\sum_{i=0}^n x_i$\n",
    "\n",
    "```latex\n",
    "$\\sum_{i=0}^n x_i$\n",
    "```\n",
    "\n",
    "## 乘积运算\n",
    "\n",
    "$\\prod_{i=0}^n x_i$\n",
    "\n",
    "```latex\n",
    "$\\sum_{i=0}^n x_i$\n",
    "```"
   ]
  },
  {
   "cell_type": "markdown",
   "metadata": {},
   "source": [
    "---"
   ]
  },
  {
   "cell_type": "markdown",
   "metadata": {},
   "source": [
    "## 声调与符号变换\n",
    "一些符号是普通字符的变换\n",
    "\n",
    "* hat: $\\hat x$\n",
    "* wide hat: $\\widehat{MLE}$\n",
    "* bar: $\\bar x$\n",
    "* line above: $\\overline{x+y}$\n",
    "* line below: $\\underline{x+y}$\n",
    "* dot: $\\dot x$\n",
    "* double dots: $\\ddot x$ or $\\ddot{x}$ or $\\ddot{xyz}$\n",
    "* vector: $\\vec x$\n",
    "* arrow: $\\overrightarrow{XYZ}$\n",
    "* 在上方表示加和数量: $\\overbrace{1+1+1+\\cdots+1}^n$\n",
    "* 在下方表示加和数量: $\\underbrace{1+1+1+\\cdots+1}_n$"
   ]
  },
  {
   "cell_type": "markdown",
   "metadata": {},
   "source": [
    "```latex\n",
    "* hat: $\\hat x$\n",
    "* wide hat: $\\widehat{MLE}$\n",
    "* bar: $\\bar x$\n",
    "* line above: $\\overline{x+y}$\n",
    "* line below: $\\underline{x+y}$\n",
    "* dot: $\\dot x$\n",
    "* double dots: $\\ddot x$ or $\\ddot{x}$ or $\\ddot{xyz}$\n",
    "* vector: $\\vec x$\n",
    "* arrow: $\\overrightarrow{XYZ}$\n",
    "* 在上方表示加和数量: $\\overbrace{1+1+1+\\cdots+1}^n$\n",
    "* 在下方表示加和数量: $\\underbrace{1+1+1+\\cdots+1}_n$\n",
    "```"
   ]
  },
  {
   "cell_type": "markdown",
   "metadata": {},
   "source": [
    "---"
   ]
  },
  {
   "cell_type": "markdown",
   "metadata": {},
   "source": [
    "## 括号\n",
    "\n",
    "### 非弹性括号\n",
    "\n",
    "括号和其它类型括号都是“非弹性”的，也就是括号具有固定高度，不会随着所包括内容的变化发生变化，例如\n",
    "$(\\frac{-b\\pm\\sqrt{b^2-4ac}}{2a})^2$\n",
    "\n",
    "```latex\n",
    "$(\\frac{-b\\pm\\sqrt{b^2-4ac}}{2a})^2$\n",
    "```\n",
    "\n",
    "### 弹性括号\n",
    "\n",
    "如果需要更好地包裹住表达式，需要使用`\\left`和`\\right`，例如\n",
    "$\\left(\\frac{-b\\pm\\sqrt{b^2-4ac}}{2a}\\right)^2$\n",
    "❗️*注意`\\left`和`\\right`在表达式中的位置*\n",
    "\n",
    "```latex\n",
    "$\\left(\\frac{-b\\pm\\sqrt{b^2-4ac}}{2a}\\right)^2$\n",
    "```\n",
    "\n",
    "### 尖括号\n",
    "\n",
    "使用`/langle`和`/rangle`作为尖括号开始和结尾的标志，例如\n",
    "$\\langle\\frac{-b\\pm\\sqrt{b^2-4ac}}{2a}\\rangle$\n",
    "\n",
    "```latex\n",
    "$\\langle\\frac{-b\\pm\\sqrt{b^2-4ac}}{2a}\\rangle$\n",
    "```"
   ]
  },
  {
   "cell_type": "markdown",
   "metadata": {},
   "source": [
    "---"
   ]
  },
  {
   "cell_type": "markdown",
   "metadata": {},
   "source": [
    "## 字体\n",
    "\n",
    "罗马文本：$\\textrm{abcdefghijklmn123456}$\n",
    "\n",
    "*斜体*文本：$\\mathit{abcdefghijklmn123456}$\n",
    "\n",
    "Sans serif 字体：$\\mathsf{abcdefghijklmn123456}$\n",
    "\n",
    "Typerwriter 字体：$\\mathtt{abcdefghijklmn123456}$\n",
    "\n",
    "Calligraphic 字体：$\\mathcal{abcdefghijklmn123456}$\n",
    "\n",
    "Blackborad bold 字体：$\\mathbb{abcdefghijklmn123456}$\n",
    "\n",
    "Boldsymbol 字体：$\\boldsymbol{A\\cdot x}=\\lambda\\cdot v$\n",
    "\n",
    "```latex\n",
    "罗马文本：$\\textrm{abcdefghijklmn123456}$\n",
    "\n",
    "*斜体*文本：$\\mathit{abcdefghijklmn123456}$\n",
    "\n",
    "Sans serif 字体：$\\mathsf{abcdefghijklmn123456}$\n",
    "\n",
    "Typerwriter 字体：$\\mathtt{abcdefghijklmn123456}$\n",
    "\n",
    "Calligraphic 字体：$\\mathcal{abcdefghijklmn123456}$\n",
    "\n",
    "Blackborad bold 字体：$\\mathbb{abcdefghijklmn123456}$\n",
    "\n",
    "Boldsymbol 字体：$\\boldsymbol{A\\cdot x}=\\lambda\\cdot v$\n",
    "```"
   ]
  },
  {
   "cell_type": "markdown",
   "metadata": {},
   "source": [
    "---"
   ]
  },
  {
   "cell_type": "markdown",
   "metadata": {},
   "source": [
    "## 空格\n",
    "\n",
    "表达式中的空格会被自动忽略，例如\n",
    "\n",
    "$\\int f(x) dx$\n",
    "\n",
    "```latex\n",
    "$\\int f(x) dx$\n",
    "```\n",
    "\n",
    "为了输入空格，可以插入`\\,`、`\\:`或`\\;`，例如\n",
    "\n",
    "`\\,`：$\\int\\,f(x)\\,dx$\n",
    "\n",
    "`\\:`：$\\int\\:f(x)\\:dx$\n",
    "\n",
    "`\\;`：$\\int\\;f(x)\\;dx$\n",
    "\n",
    "`\\quad`：$\\int\\quad f(x)\\quad dx$\n",
    "\n",
    "`\\qquad`：$\\int\\qquad f(x)\\qquad dx$\n",
    "\n",
    "❗️注意不同符号所指代的空格长度\n",
    "\n",
    "```latex\n",
    "\\,：$\\int\\,f(x)\\,dx$\n",
    "\n",
    "\\:：$\\int \\: f(x) \\:dx$\n",
    "\n",
    "\\;：$\\int \\;f(x)\\;dx$\n",
    "\n",
    "\\quad：$\\int\\quad f(x)\\quad dx$\n",
    "\n",
    "\\qquad：$\\int\\qquad f(x)\\qquad dx$\n",
    "```"
   ]
  },
  {
   "cell_type": "markdown",
   "metadata": {},
   "source": [
    "---"
   ]
  },
  {
   "cell_type": "markdown",
   "metadata": {},
   "source": [
    "## 表达式组\n",
    "\n",
    "### 居中对齐的表达式组\n",
    "\n",
    "利用`\\\\`分隔不同表达式，可以让表达式组居中对齐，例如\n",
    "\n",
    "$$\n",
    "x+2y=1\\\\\n",
    "2x+4y=2\\\\\n",
    "3x+8y=3\n",
    "$$\n",
    "\n",
    "```latex\n",
    "$$\n",
    "x+2y=1 \\\\\n",
    "2x+4y=2 \\\\\n",
    "3x+8y=3\n",
    "$$\n",
    "```\n",
    "\n",
    "### 符号对齐的表达式组\n",
    "\n",
    "$$ \n",
    "\\begin{align}\n",
    "x+2y=1\\\\\n",
    "2x+4y=2\\\\\n",
    "3x+8y=3\n",
    "\\end{align}\n",
    "$$\n",
    "\n",
    "❗️注意不同对齐方式下，表达式组符号的对齐方式\n",
    "\n",
    "```\n",
    "$$\n",
    "\\begin{align}\n",
    "x+2y=1\\\\\n",
    "2x+4y=2\\\\\n",
    "3x+8y=3\n",
    "\\end{align}\n",
    "$$\n",
    "```\n",
    "\n",
    "### 对表达式进行编号\n",
    "\n",
    "在每个表达式后添加`\\tag{}`并填入数字，可以对表达式进行编号\n",
    "\n",
    "$$ \\begin{align}\n",
    "x+2y=1\\tag{1}\\\\\n",
    "2x+4y=2\\tag{2}\\\\\n",
    "3x+8y=3\\tag{3}\n",
    "\\end{align}\n",
    "$$\n",
    "\n",
    "```\n",
    "$$\n",
    "\\begin{align}\n",
    "x+2y=1\\tag{1}\\\\\n",
    "2x+4y=2\\tag{2}\\\\\n",
    "3x+8y=3\\tag{3}\n",
    "\\end{align}\n",
    "$$\n",
    "```"
   ]
  },
  {
   "cell_type": "markdown",
   "metadata": {},
   "source": [
    "## 分段函数\n",
    "\n",
    "使用`{cases}`作为首尾标志的参数\n",
    "\n",
    "$$\n",
    "sign(x)=\\begin{cases}\n",
    "1&x>0 \\\\ 0&x=0 \\cr -1&x<0\n",
    "\\end{cases}\n",
    "$$\n",
    "\n",
    "❗️\n",
    "* `&`在此表示缩进\n",
    "* `\\\\`和`\\cr`表示另起一个条件\n",
    "\n",
    "```\n",
    "$$\n",
    "sign(x)=\\begin{cases}\n",
    "1&x>0 \\\\ 0&x=0 \\cr -1&x<0\n",
    "\\end{cases}\n",
    "$$\n",
    "```"
   ]
  }
 ],
 "metadata": {
  "kernelspec": {
   "display_name": "Julia 1.3.1",
   "language": "julia",
   "name": "julia-1.3"
  },
  "language_info": {
   "file_extension": ".jl",
   "mimetype": "application/julia",
   "name": "julia",
   "version": "1.3.1"
  }
 },
 "nbformat": 4,
 "nbformat_minor": 2
}
