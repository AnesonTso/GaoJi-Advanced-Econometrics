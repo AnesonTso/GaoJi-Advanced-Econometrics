{
 "cells": [
  {
   "cell_type": "markdown",
   "metadata": {},
   "source": [
    "Hello World!\n",
    "====\n",
    "This is second grade title!\n",
    "------"
   ]
  },
  {
   "cell_type": "markdown",
   "metadata": {},
   "source": [
    "---"
   ]
  },
  {
   "cell_type": "markdown",
   "metadata": {},
   "source": [
    "# Hello World!\n",
    "## This is second grade title!\n",
    "### This is thrid grade title!\n",
    "#### This is fourth grade title!\n",
    "##### This is fifth grade title!\n",
    "##### This is sixth grade title!\n",
    "and this, is text"
   ]
  },
  {
   "cell_type": "markdown",
   "metadata": {},
   "source": [
    "***"
   ]
  },
  {
   "cell_type": "markdown",
   "metadata": {},
   "source": [
    "this is how you can\n",
    "\n",
    "start a new line"
   ]
  },
  {
   "cell_type": "markdown",
   "metadata": {},
   "source": [
    "----"
   ]
  },
  {
   "cell_type": "markdown",
   "metadata": {},
   "source": [
    "you can also type italics\n",
    "\n",
    "*italics*\n",
    "\n",
    "or make it bold\n",
    "\n",
    "**bold**\n",
    "\n",
    "combine it all\n",
    "\n",
    "***italics&bold***"
   ]
  },
  {
   "cell_type": "markdown",
   "metadata": {},
   "source": [
    "* * *"
   ]
  },
  {
   "cell_type": "markdown",
   "metadata": {},
   "source": [
    "create **delete** line\n",
    "\n",
    "~~delete~~ it!"
   ]
  },
  {
   "cell_type": "markdown",
   "metadata": {},
   "source": [
    "- - -"
   ]
  },
  {
   "cell_type": "markdown",
   "metadata": {},
   "source": [
    "create **underline**\n",
    "\n",
    "I hid the tresure under <u>here</u>, go find it."
   ]
  },
  {
   "cell_type": "markdown",
   "metadata": {},
   "source": [
    "****"
   ]
  },
  {
   "cell_type": "markdown",
   "metadata": {},
   "source": [
    "###  ❓footnote of markdown in Jupyter notebook seems not working.\n",
    "\n",
    "add footnote[^footnote] is also easy\n",
    "\n",
    "[^footnote]: explained here."
   ]
  },
  {
   "cell_type": "markdown",
   "metadata": {},
   "source": [
    "-----"
   ]
  },
  {
   "cell_type": "markdown",
   "metadata": {},
   "source": [
    "list without order \n",
    "\n",
    "- appendix A\n",
    "- appendix B\n",
    "- appendix C\n",
    "\n",
    "\n",
    "+ basic A\n",
    "+ basic B\n",
    "+ basic C\n",
    "\n",
    "\n",
    "* course A\n",
    "* course B\n",
    "* course C"
   ]
  },
  {
   "cell_type": "markdown",
   "metadata": {},
   "source": [
    "******"
   ]
  },
  {
   "cell_type": "markdown",
   "metadata": {},
   "source": [
    "list with order need numbers to indicate the order\n",
    "\n",
    "1. gold\n",
    "2. silver\n",
    "3. broze"
   ]
  },
  {
   "cell_type": "markdown",
   "metadata": {},
   "source": [
    "---"
   ]
  },
  {
   "cell_type": "markdown",
   "metadata": {},
   "source": [
    "use indentation to make nested list\n",
    "\n",
    "* Student\n",
    "    * Lily\n",
    "    * Harry\n",
    "* Major\n",
    "    * Black Magic\n",
    "    * Defence"
   ]
  },
  {
   "cell_type": "markdown",
   "metadata": {},
   "source": [
    "---"
   ]
  },
  {
   "cell_type": "markdown",
   "metadata": {},
   "source": [
    "use blocks\n",
    "\n",
    "> Fruits\n",
    ">> 🍌 \n",
    "\n",
    ">> 🥝\n",
    "\n",
    "> Clothes\n",
    ">> 👔\n",
    "\n",
    ">> 👖"
   ]
  },
  {
   "cell_type": "markdown",
   "metadata": {},
   "source": [
    "---"
   ]
  },
  {
   "cell_type": "markdown",
   "metadata": {},
   "source": [
    "to specify a fragment of code, use single ` notation\n",
    "\n",
    "the `print` function prints input"
   ]
  },
  {
   "cell_type": "markdown",
   "metadata": {},
   "source": [
    "to specify whole segment of code, use triple ``` notation\n",
    "\n",
    "```julia\n",
    "function abs(x)\n",
    "    if x ≥ 0\n",
    "        println(x)\n",
    "    else\n",
    "        println(-x)\n",
    "    end\n",
    "end\n",
    "```"
   ]
  },
  {
   "cell_type": "markdown",
   "metadata": {},
   "source": [
    "---"
   ]
  },
  {
   "cell_type": "markdown",
   "metadata": {},
   "source": [
    "if you meet some problems, search\n",
    "\n",
    "[baidu](https://baidu.com) yourself\n",
    "\n",
    "or click <https://baidu.com>\n",
    "\n",
    "\n",
    "\n",
    "I will recommend some useful search engine for you\n",
    "\n",
    "baidu[1]\n",
    "google[2]\n",
    "\n",
    "* [1]: http://www.baidu.com/\n",
    "* [2]: https://www.google.com/"
   ]
  },
  {
   "cell_type": "markdown",
   "metadata": {},
   "source": [
    "---"
   ]
  },
  {
   "cell_type": "markdown",
   "metadata": {},
   "source": [
    "you can also create table like this\n",
    "\n",
    "|name |age |gender|\n",
    "|--- |--- |---|\n",
    "|harry |11 |male|\n",
    "|potter |12 |male|\n",
    "\n",
    "对其方式也是五花八门\n",
    "\n",
    "|左对齐 |居中 |右对齐|\n",
    "|:-- |:-: |--:|\n",
    "|harry |11 |male|\n",
    "|potter |12 |male|"
   ]
  },
  {
   "cell_type": "markdown",
   "metadata": {},
   "source": [
    "---"
   ]
  },
  {
   "cell_type": "markdown",
   "metadata": {},
   "source": [
    "use MathJax to write mathematical formula\n",
    "\n",
    "$$\n",
    "y = x^2 - 2x + 4\n",
    "$$"
   ]
  }
 ],
 "metadata": {
  "kernelspec": {
   "display_name": "Julia 1.3.1",
   "language": "julia",
   "name": "julia-1.3"
  },
  "language_info": {
   "file_extension": ".jl",
   "mimetype": "application/julia",
   "name": "julia",
   "version": "1.3.1"
  }
 },
 "nbformat": 4,
 "nbformat_minor": 2
}
