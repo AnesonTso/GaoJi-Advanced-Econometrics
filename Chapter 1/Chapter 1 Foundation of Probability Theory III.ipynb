{
 "cells": [
  {
   "cell_type": "markdown",
   "metadata": {},
   "source": [
    "# Chapter 1 Foundation of Probability Theory Part III\n",
    "\n",
    "#### *Zhuo Jianchao* \n",
    "\n",
    "Feb 6, 2020 *Rev 1*"
   ]
  },
  {
   "cell_type": "markdown",
   "metadata": {},
   "source": [
    "You can pass this Part if you're very comfortable with the concept of **Permutation** and **Combination**."
   ]
  },
  {
   "cell_type": "markdown",
   "metadata": {},
   "source": [
    "## Fundamental Theorem of Counting"
   ]
  },
  {
   "cell_type": "markdown",
   "metadata": {},
   "source": [
    "If a random experiment should be done in *k* seperate steps, and the $i^{th}$ step yields $n_i$ outcomes, then the total possible outcomes of the random experiment is $\n",
    "n_{1} \\times n_{2} \\times \\cdots \\times n_{k}=\\Pi_{i=1}^{k} n_{i}$.\n",
    "\n",
    "This theorem states if we want to find the number of basic outcomes of a seperate multi-step random experiment, take product of the number of possible outcomes for each step."
   ]
  },
  {
   "cell_type": "markdown",
   "metadata": {},
   "source": [
    "## Methods of Counting"
   ]
  },
  {
   "cell_type": "markdown",
   "metadata": {},
   "source": [
    "Why counting matters? Until now, the probability function in our example of random experiment can be attained by counting the number of basic outcomes in an given event and dividing it by the number of total basic outcomes in the sample space. If you're still confused by such statement, recalling the Example 6.1 in Part II which we will discuss a little bit deeper below. If going fine, skip the example."
   ]
  },
  {
   "cell_type": "markdown",
   "metadata": {},
   "source": [
    "### Example 6.1 in Part II\n",
    "\n",
    "Roll a coin, record which face showing up. It must be a head $H$ or a tail $T$, then the sample space is $\\{H,T\\}$, and the sigma algebra associated with it is $\\{\\emptyset,H,T,\\{H,T\\}\\}$. \n",
    "\n",
    "Recall that every element in the sigma algebra is an event.\n",
    "* $\\{H\\}$ in the sigma algebra means rolling a head;\n",
    "* $\\{T\\}$ stands for rolling a tail;\n",
    "* $\\{H,T\\}$ represents rolling a head **or** a tail, which is certain because either one of a head or a tail must occur;\n",
    "* $\\{\\emptyset\\}$ means neither a head nor a tail occurs, which is impossible.\n",
    "\n",
    "There are two basic outcomes in the sample space with even, or the same likelihood of occurrence, then event $\\{H\\}$ is one outcome in the total two possible outcomes, hence has probbility of $\\frac{1}{2}$. The same to two extreme cases where $\\{H,T\\}$ covers all outcomes hence has probability of $1$ and $\\{\\emptyset\\}$ contains naught outcomes hence 0."
   ]
  },
  {
   "cell_type": "markdown",
   "metadata": {},
   "source": [
    "### Method 0 Ordering"
   ]
  },
  {
   "cell_type": "markdown",
   "metadata": {},
   "source": [
    "If there are three card on a desk marked $A, B, C$ respectively. You randomly choose one of them as the first card, then choose another one as the second card, then the third one. Once you done it, you get a sequence of cards, with specific *order*."
   ]
  },
  {
   "cell_type": "code",
   "execution_count": 1,
   "metadata": {},
   "outputs": [
    {
     "data": {
      "text/plain": [
       "select_cards"
      ]
     },
     "execution_count": 1,
     "metadata": {},
     "output_type": "execute_result"
    }
   ],
   "source": [
    "\"\"\"\n",
    "randomly select one from [A,B,C]\n",
    "\"\"\"\n",
    "function select_one_card()\n",
    "    card = ['A','B','C']\n",
    "    rand(card,1)\n",
    "end\n",
    "\n",
    "\n",
    "\"\"\"\n",
    "do it three times to get a sequence of cards\n",
    "\"\"\"\n",
    "function select_cards()\n",
    "    order = []\n",
    "    card₁ = ['A','B','C']\n",
    "    first = rand(card₁,1)[1]\n",
    "    card₂ = filter!(i->i≠first, card₁)\n",
    "    second = rand(card₂,1)[1]\n",
    "    card₃ = filter!(i->i≠second, card₂) \n",
    "    third = rand(card₃,1)[1]\n",
    "    push!(order, first, second, third)\n",
    "end"
   ]
  },
  {
   "cell_type": "markdown",
   "metadata": {},
   "source": [
    "Calling the function `select_cards` yields a specific ordering of our cards."
   ]
  },
  {
   "cell_type": "code",
   "execution_count": 2,
   "metadata": {},
   "outputs": [
    {
     "data": {
      "text/plain": [
       "3-element Array{Any,1}:\n",
       " 'B'\n",
       " 'A'\n",
       " 'C'"
      ]
     },
     "execution_count": 2,
     "metadata": {},
     "output_type": "execute_result"
    }
   ],
   "source": [
    "select_cards()"
   ]
  },
  {
   "cell_type": "markdown",
   "metadata": {},
   "source": [
    "But there are how many distinct orderings of cards? For the first position, there are three possible cards; now there are two cards remaining hence two possible cards for the second position; and the last one fits the third position. Use the fundamental theorem of counting for generating a sequence of three cards in three steps, there are $3 \\times 2 \\times 1=6$ possible orderings in total. Use simulation to check our finding."
   ]
  },
  {
   "cell_type": "code",
   "execution_count": 3,
   "metadata": {},
   "outputs": [
    {
     "data": {
      "text/plain": [
       "check_order"
      ]
     },
     "execution_count": 3,
     "metadata": {},
     "output_type": "execute_result"
    }
   ],
   "source": [
    "\"\"\"\n",
    "repeat the random experiment n times, and return number of distinct orderings of sequence of cards\n",
    "\"\"\"\n",
    "function check_order(n)\n",
    "    count = Dict()\n",
    "    for i ∈ 1:n\n",
    "        order = select_cards()\n",
    "        if !(order in values(count))\n",
    "            count[i] = order\n",
    "        end\n",
    "    end\n",
    "    return length(count)\n",
    "end"
   ]
  },
  {
   "cell_type": "markdown",
   "metadata": {},
   "source": [
    "***Tips***: The reason why we use a *dictionary* instead of an *array* as the container of possible orderings is that each time we generate a sequence, we need to search in the container whether the sequence is already in it. Searching in an array is to check elements in the array one by one, until the target is identified or the end is reached. As the array becomes longer, containing more elements, it takes longer time to finish searching. For a dictionary, it is constructed in a different way, making the time for searching relatively the same for a larger dictionary. \n",
    "\n",
    "Even though, in this case, we only consider the ordering of three items, it's still a good habit to use a more efficient method as it can be easily extended for a larger example.\n",
    "\n",
    "We simulate repeating a thousand times, by calling ```check_order(1000)```, which yields 6, our theoretical number of possible orderings."
   ]
  },
  {
   "cell_type": "code",
   "execution_count": 4,
   "metadata": {},
   "outputs": [
    {
     "data": {
      "text/plain": [
       "6"
      ]
     },
     "execution_count": 4,
     "metadata": {},
     "output_type": "execute_result"
    }
   ],
   "source": [
    "check_order(1000)"
   ]
  },
  {
   "cell_type": "markdown",
   "metadata": {},
   "source": [
    "The example can be extended to be the number of ordering of *n* cards instead of only 3. In the extended example, for the first position, there are $n$ possible outcomes; for the second one, there are $(n-1)$; for the $3^{rd}$ position, there are $(n-2)$, all the way down to the $n^{th}$ position, there are $(n-n+1)$ which is $1$. By the fundamental theorem of counting, all the positions combined, there are \n",
    "$$\\underbrace{n \\times (n-1) \\times (n-2) \\times \\dots \\times 2 \\times 1}_n$$\n",
    "\n",
    "also denoted as $n!$ possibilities. The $n!$ is called a **factorial** of n. And we state that factorial of zero is 1, that is\n",
    "\n",
    "$$0!=1$$"
   ]
  },
  {
   "cell_type": "markdown",
   "metadata": {},
   "source": [
    "### Method 1 Permutation"
   ]
  },
  {
   "cell_type": "markdown",
   "metadata": {},
   "source": [
    "Similar to previous example, this time let's say, we want to select **two** cards from total **four** different cards then how many distinct **ordered** sequence there will be?\n",
    "\n",
    "Because order matters, for the first position there are four possible outcomes; for the second, there are three; then the total possiblities is $4 \\times 3 = 12$.\n",
    "\n",
    "For a more abstract example, how many ordered sequences if we select $m$ cards from total $n$ different cards?\n",
    "\n",
    "As the same way, for the first position, there are $n$ possible outcomes, for the second, there are $n-1$, all the way down to the $m-1^{th}$ position, there are $n-(m-1)+1=n-m+2$ and for the last $m^{th}$ position, there are $n-m+1$ possibilities.\n",
    "\n",
    "Combine all the *n* positions, we have total possibilities of \n",
    "$$\\underbrace{n \\times (n-1) \\times \\dots \\times (n-m+2) \\times (n-m+1)}_m$$\n",
    "\n",
    "It's a quite general case because we use $P_n^{m}$ to denote the number of **permutations**, that is, the ordered sequence with *m* items selected from *n* total items, then\n",
    "\n",
    "$$P_n^{m}=\\underbrace{n \\times (n-1) \\times \\dots \\times (n-m+2) \\times (n-m+1)}_m$$\n",
    "\n",
    "We can incorporate the formula with the factorial so that it can be expressed in a more compact way:\n",
    "$$P_n^{m}=\\frac{n!}{(n-m)!}$$"
   ]
  },
  {
   "cell_type": "markdown",
   "metadata": {},
   "source": [
    "Let's generate a function that calculate it."
   ]
  },
  {
   "cell_type": "code",
   "execution_count": 5,
   "metadata": {
    "scrolled": true
   },
   "outputs": [
    {
     "data": {
      "text/plain": [
       "permutation_fac"
      ]
     },
     "execution_count": 5,
     "metadata": {},
     "output_type": "execute_result"
    }
   ],
   "source": [
    "\"\"\"\n",
    "takes two arguments, the larger being total number of items and the smaller being number of items of selection.\n",
    "\"\"\"\n",
    "function permutation(a::Int64,b::Int64)\n",
    "    # check for validation of arguments\n",
    "    if a * b < 0\n",
    "        error(\"invalid n or m.\")\n",
    "    end\n",
    "    # assign values\n",
    "    if a ≥ b\n",
    "        n, m = a, b\n",
    "    else\n",
    "        n, m = b, a\n",
    "    end\n",
    "    product = 1\n",
    "    for i in 0:m-1\n",
    "        product = product * (n-i)\n",
    "    end\n",
    "    return product\n",
    "end\n",
    "\n",
    "\n",
    "\"\"\"\n",
    "another function to calculate number of permutations but incorporated in factorial.\n",
    "\"\"\"\n",
    "function permutation_fac(a::Int64,b::Int64)\n",
    "    if a * b < 0\n",
    "        error(\"invalid n or m.\")\n",
    "    end\n",
    "    if a ≥ b\n",
    "        n, m = a, b\n",
    "    else\n",
    "        n, m = b, a\n",
    "    end\n",
    "    return factorial(n)/factorial(n-m)\n",
    "end"
   ]
  },
  {
   "cell_type": "code",
   "execution_count": 6,
   "metadata": {
    "scrolled": true
   },
   "outputs": [
    {
     "data": {
      "text/plain": [
       "true"
      ]
     },
     "execution_count": 6,
     "metadata": {},
     "output_type": "execute_result"
    }
   ],
   "source": [
    "permutation(2,4) == permutation_fac(2,4)"
   ]
  },
  {
   "cell_type": "markdown",
   "metadata": {},
   "source": [
    "Let's use `permutation` to check answer in the example."
   ]
  },
  {
   "cell_type": "code",
   "execution_count": 7,
   "metadata": {},
   "outputs": [
    {
     "name": "stdout",
     "output_type": "stream",
     "text": [
      "🎉bingo~"
     ]
    }
   ],
   "source": [
    "permutation(2,4) == 12 && print(\"🎉bingo~\")"
   ]
  },
  {
   "cell_type": "markdown",
   "metadata": {},
   "source": [
    "### Method 2 Combinations"
   ]
  },
  {
   "cell_type": "markdown",
   "metadata": {},
   "source": [
    "In permutation, order counts. If two sequences are deemed identical if their elements are the same no matter what the order of elements is, the sequence is called a **combination**. \n",
    "\n",
    "To select three letters from $A,B,C,D$, the permutations are $ABC,ABD,ACD,BCD$, and other five sets of permutations with each item be in a different order, that is $BCA,BDA,CDA,CDB$, and $ACB,ADB,ADC,BDC$ and $CBA,DBA,DCA,DCB$, etc., totally 24 permutations in 6 different orders.\n",
    "\n",
    "If we care about the number of combination, in which case $ABC$ is exactly the same as $BCA$ and $ACB$, the number of distinct sequence \"trisected\" to be only 4.\n",
    "\n",
    "From this example we can know that *the number of combinations* is *the number of permutation* divided by something.\n",
    "\n",
    "That something in this example, is the number of ordering of our three-time selection, take $ABC$ for example. Because we are to select a sequence of three letters like $ABC$, the order of which can be in $3!$ ways, that is 6. So the there are 4 combinations of sequence without order and 6 orders totalling $4 \\times 6 = 24$ permutations.\n",
    "\n",
    "Conclusion, the number of combination from a selection of *m* units from total *n* units is the *number of permutations* of *m* units out of *n* units, that is $P_n^m$, divided by the number of orders our selection of *m* units out of *m* units is, that is $P_m^m$.\n",
    "\n",
    "Use $C_n^m$ to denote the number of combinations of selecting *m* units from *n* units, then\n",
    "$$C_n^m=\\frac{P_n^m}{P_m^m}=\\frac{\\frac{n!}{(m-n)!}}{m!}=\\frac{n!}{m!(n-m)!}$$\n",
    "\n",
    "We use $C_n^m$ and $\\binom{n}{m}$ to denote the number of combinations of choosing *m* items from *n* items interchangeably, but be aware the position of each parameter."
   ]
  },
  {
   "cell_type": "code",
   "execution_count": 8,
   "metadata": {},
   "outputs": [
    {
     "data": {
      "text/plain": [
       "combination"
      ]
     },
     "execution_count": 8,
     "metadata": {},
     "output_type": "execute_result"
    }
   ],
   "source": [
    "\"\"\"\n",
    "takes two arguments, the larger being total number of items and the smaller being number of items of selection.\n",
    "\"\"\"\n",
    "function combination(a::Int64,b::Int64)\n",
    "    # check for validation of arguments\n",
    "    if a * b < 0\n",
    "        error(\"invalid n or m.\")\n",
    "    end\n",
    "    # assign values\n",
    "    if a ≥ b\n",
    "        n, m = a, b\n",
    "    else\n",
    "        n, m = b, a\n",
    "    end\n",
    "    return permutation(a,b) ÷ factorial(m)::Int64\n",
    "end"
   ]
  },
  {
   "cell_type": "code",
   "execution_count": 9,
   "metadata": {},
   "outputs": [
    {
     "name": "stdout",
     "output_type": "stream",
     "text": [
      "👍 well done!"
     ]
    }
   ],
   "source": [
    "combination(4,3) == 4 && print(\"👍 well done!\")"
   ]
  }
 ],
 "metadata": {
  "kernelspec": {
   "display_name": "Julia 1.3.1",
   "language": "julia",
   "name": "julia-1.3"
  },
  "language_info": {
   "file_extension": ".jl",
   "mimetype": "application/julia",
   "name": "julia",
   "version": "1.3.1"
  }
 },
 "nbformat": 4,
 "nbformat_minor": 2
}
