{
 "cells": [
  {
   "cell_type": "markdown",
   "metadata": {},
   "source": [
    "# Chapter 1 Foundation of Probability Theory Part IV\n",
    "\n",
    "#### *Zhuo Jianchao* \n",
    "\n",
    "Feb 6, 2020 *Rev 1*"
   ]
  },
  {
   "cell_type": "markdown",
   "metadata": {},
   "source": [
    "In a simulation game, you play the mayor of a town. And this video game has four weather conditions being sunny, cloudy, rainy and stormy. The weather forecast department will call you at the morning if their forecast of the day is rainy or stormy. Everyday the weather is random with the same likelihood. One of the four setting must occur, so the probability of a day being rainy is $\\frac{1}{4}$. Is it?\n",
    "\n",
    "No. Because every morning the weather department do their work. If you receive a phone call reminding you the weather is going bad, you know, as a mayor, the weather is going to be rainy or stormy, right? Then the probability of a day being rainy is $\\frac{1}{2}$. Having the information of one event may increase our confidence about another, this is described by the conditional probability."
   ]
  },
  {
   "cell_type": "markdown",
   "metadata": {},
   "source": [
    "### Definition 7 Conditional Probability"
   ]
  },
  {
   "cell_type": "markdown",
   "metadata": {},
   "source": [
    "Let $A$ and $B$ be two events in probability space $(S,\\mathbb{B},P)$. The conditional probability of event $A$ given the knowledge that $B$ has already occurred, denoted as $P(A|B)$, is defined as \n",
    "$$P(A|B)=\\frac{P(A \\cap B)}{P(B)}$$\n",
    "provided that $P(B)>0$."
   ]
  },
  {
   "cell_type": "markdown",
   "metadata": {},
   "source": [
    "We can alter the example in the introduction where you play the role as a mayor to enhance our understanding of the concept."
   ]
  },
  {
   "cell_type": "markdown",
   "metadata": {},
   "source": [
    "### Example 7.1"
   ]
  },
  {
   "cell_type": "markdown",
   "metadata": {},
   "source": [
    "There are still four sets of weather conditions: sunny, cloudy, rainy and stormy, summed up into two catagories: good weather and bad weather. Your town is in a warm place, with the probability of the weather being good being $60\\%$ and the probability of being bad $40\\%$. For a day with bad weather, the weather forecast makes a correct prediction of probability of $70\\%$ and a wrong one of $30\\%$.\n",
    "\n",
    "Use notations to represent events:\n",
    "* $B$ means the day turns out to have a bad weather.\n",
    "* $\\lnot B$ means the day doesn't have a bad weather, the negation of $B$\n",
    "\n",
    "* $C$ means the prediction is correct.\n",
    "* $\\lnot C$ means the prediction is wrong.\n",
    "\n",
    "Since in a bad weather day, the forecast makes a correct prediction with likelihood of 70%, then\n",
    "$$P(C|B)=70\\%$$"
   ]
  }
 ],
 "metadata": {
  "kernelspec": {
   "display_name": "Julia 1.3.1",
   "language": "julia",
   "name": "julia-1.3"
  },
  "language_info": {
   "file_extension": ".jl",
   "mimetype": "application/julia",
   "name": "julia",
   "version": "1.3.1"
  }
 },
 "nbformat": 4,
 "nbformat_minor": 2
}
