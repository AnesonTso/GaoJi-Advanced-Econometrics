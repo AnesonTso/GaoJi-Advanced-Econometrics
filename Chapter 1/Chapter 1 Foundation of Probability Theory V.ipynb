{
 "cells": [
  {
   "cell_type": "markdown",
   "metadata": {},
   "source": [
    "# Chapter 1 Foundation of Probability Theory Part V\n",
    "\n",
    "#### *Zhuo Jianchao* \n",
    "\n",
    "Feb 9, 2020 *Rev 1*"
   ]
  },
  {
   "cell_type": "markdown",
   "metadata": {},
   "source": [
    "### Bayes’ Theorem"
   ]
  },
  {
   "cell_type": "markdown",
   "metadata": {},
   "source": [
    "It's a well-known theorem in probability which is widely used nowadays in a variety of fields such as machine learning and biostatistics.\n",
    "\n",
    "Bayes' theorem bridges *multiplication rule* and *rule of total probability*. \n",
    "\n",
    "Suppose $A$ and $B$ are two events with $P(A)>0$ and $P(B)>0$, then\n",
    "\n",
    "$$\n",
    "P(A | B)=\\frac{P(B | A) P(A)}{P(B | A) P(A)+P\\left(B | {A}^{c}\\right) P\\left(A^{c}\\right)}\n",
    "$$"
   ]
  },
  {
   "cell_type": "markdown",
   "metadata": {},
   "source": [
    "We can alter the example in the Part 4 where you play the role as a mayor to enhance our understanding of the concept."
   ]
  },
  {
   "cell_type": "markdown",
   "metadata": {},
   "source": [
    "There are still four sets of weather conditions: sunny, cloudy, rainy and stormy, summed up into two catagories: good weather and bad weather. Your town is in a warm place, with the probability of the weather being good being $60\\%$ and the probability of being bad $40\\%$. For good weather days, the probability of running out of solar power supply is $10\\%$, and this probability increases to $70\\%$ in a bad weather day.\n",
    "\n",
    "Use notations to represent events:\n",
    "* $B$ means the day turns out to have a bad weather.\n",
    "* $G$ means the day is a good weather day,\n",
    "\n",
    "* $O$ means that solar power supply is run out.\n",
    "* $\\lnot O$ means the opposite, the negation of $O$, which is equivalent to $O^{c}$ in a broader sense$^{*}$.\n",
    "\n",
    "Then probabilities of these events are\n",
    "$$\n",
    "P(B)=40\\%\\\\\n",
    "P(G)=60\\%\\\\\n",
    "$$\n",
    "\n",
    "We can also denote conditional probabilities, \n",
    "$$\n",
    "P(O|G)=10\\% \\\\\n",
    "P(\\lnot O|G)=90\\% \\\\\n",
    "P(O|B)=70\\% \\\\\n",
    "P(\\lnot O|B)=30\\%\n",
    "$$\n",
    "\n",
    "Then **in a day of solar supply running out, what's the probability of the day being good**?\n",
    "The probability we want to figure out is $P(G|O)$, by the definition of <u>conditional probability</u>, \n",
    "$$P(G|O)=\\frac{P(O \\cap G)}{P(O)}$$\n",
    "\n",
    "Consider the numerator and denominator seperately, for the numerator, by the <u>multiplication rule</u>, we have\n",
    "$$P(O \\cap G)=P(O|G)P(G)$$\n",
    "\n",
    "for the denominator, by the <u>rule of total probability</u>, we split the sample space $S$ into two events as conditions whose probabilities are known which are $G$ and $\\lnot B$, then we have\n",
    "$$\n",
    "P(O) = P(O|G)P(G)+P(O|B)P(B)\n",
    "$$\n",
    "\n",
    "Combine numerator and denominator together, \n",
    "$$P(G|O)=\\frac{P(O|G)P(G)}{P(O|G)P(G)+P(O|B)P(B)}=\\frac{ 10\\% \\times 60\\% }{ 10\\% \\times 60\\%+70\\% \\times 40\\% }=\\frac{3}{17}$$"
   ]
  },
  {
   "cell_type": "markdown",
   "metadata": {},
   "source": [
    "### Independence"
   ]
  },
  {
   "cell_type": "markdown",
   "metadata": {},
   "source": [
    "Events $A$ and $B$ are said to be **independent** $\\text{if} P(A \\cap B)=P(A)P(B)$.\n",
    "\n",
    "The concept of independence would be quite straightforward if we consider the conditional probability.\n",
    "\n",
    "$$\\text{If $A$ and $B$ are independent, then} P(A|B)=\\frac{P(A \\cap B)}{P(B)}=\\frac{P(A)P(B)}{P(B)}=P(A)$$\n",
    "\n",
    "That is, knowing the occurrance of event $B$ won't bring extra knowledge about the probability of $A$. It's like you are wondering how fast a snail can move, then someone tells you that a snail has a shell. This information about its shell is completely independent of speed of a snail, thus leaves you in the same situation before knowing about it."
   ]
  }
 ],
 "metadata": {
  "kernelspec": {
   "display_name": "Julia 1.3.1",
   "language": "julia",
   "name": "julia-1.3"
  },
  "language_info": {
   "file_extension": ".jl",
   "mimetype": "application/julia",
   "name": "julia",
   "version": "1.3.1"
  }
 },
 "nbformat": 4,
 "nbformat_minor": 2
}
