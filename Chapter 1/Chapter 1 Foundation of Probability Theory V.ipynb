{
 "cells": [
  {
   "cell_type": "markdown",
   "metadata": {},
   "source": [
    "# Chapter 1 Foundation of Probability Theory Part V\n",
    "\n",
    "#### *Zhuo Jianchao* \n",
    "\n",
    "Feb 7, 2020 *Rev 1*"
   ]
  },
  {
   "cell_type": "markdown",
   "metadata": {},
   "source": [
    "### Bayes’ Theorem"
   ]
  },
  {
   "cell_type": "markdown",
   "metadata": {},
   "source": [
    "It's a well-known theorem in probability which is widely used nowadays in a variety of fields such as machine learning and biostatistics.\n",
    "\n",
    "Bayes' theorem bridges *multiplication rule* and *rule of total probability*. \n",
    "\n",
    "Suppose $A$ and $B$ are two events with $P(A)>0$ and $P(B)>0$, then\n",
    "\n",
    "$$\n",
    "P(A | B)=\\frac{P(B | A) P(A)}{P(B | A) P(A)+P\\left(B | {A}^{c}\\right) P\\left(A^{c}\\right)}\n",
    "$$"
   ]
  },
  {
   "cell_type": "markdown",
   "metadata": {},
   "source": [
    "We can alter the example in the Part 4 where you play the role as a mayor to enhance our understanding of the concept."
   ]
  },
  {
   "cell_type": "markdown",
   "metadata": {},
   "source": [
    "There are still four sets of weather conditions: sunny, cloudy, rainy and stormy, summed up into two catagories: good weather and bad weather. Your town is in a warm place, with the probability of the weather being good being $60\\%$ and the probability of being bad $40\\%$. For a day with bad weather, the weather forecast makes a correct prediction of probability of $70\\%$ and a wrong one of $30\\%$.\n",
    "\n",
    "Use notations to represent events:\n",
    "* $B$ means the day turns out to have a bad weather.\n",
    "* $\\lnot B$ means the day doesn't have a bad weather, the negation of $B$\n",
    "\n",
    "* $C$ means the prediction is correct.\n",
    "* $\\lnot C$ means the prediction is wrong.\n",
    "\n",
    "Since in a bad weather day, the forecast makes a correct prediction with likelihood of 70%, then\n",
    "$$P(C|B)=70\\%$$"
   ]
  }
 ],
 "metadata": {
  "kernelspec": {
   "display_name": "Julia 1.3.1",
   "language": "julia",
   "name": "julia-1.3"
  },
  "language_info": {
   "file_extension": ".jl",
   "mimetype": "application/julia",
   "name": "julia",
   "version": "1.3.1"
  }
 },
 "nbformat": 4,
 "nbformat_minor": 2
}
