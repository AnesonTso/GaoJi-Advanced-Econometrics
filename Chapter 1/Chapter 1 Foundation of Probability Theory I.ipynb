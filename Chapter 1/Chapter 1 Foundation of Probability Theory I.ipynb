{
 "cells": [
  {
   "cell_type": "markdown",
   "metadata": {},
   "source": [
    "# Chapter 1 Foundation of Probability Theory Part I\n",
    "\n",
    "#### *Zhuo Jianchao* \n",
    "\n",
    "Feb 2, 2020 *Rev 1*"
   ]
  },
  {
   "cell_type": "markdown",
   "metadata": {},
   "source": [
    "## Random Experiments"
   ]
  },
  {
   "cell_type": "markdown",
   "metadata": {},
   "source": [
    "To investigate economic phenomenon, it's of scientific convenience to characterize it into several **repeated experiments**. When forcasting a country's GDP growth, the so called experiment is repeated each year, each yielding a GDP value for that year. We know exactly what GDP value of a given year *prior* to the current date is, whereas GDP at any year after the current date needs to be **predicted**, until that happens, yielding an *outcome*.\n",
    "\n",
    "Because of the randomness associated with the experiment, such repeated experiment is also called a **random experiment**."
   ]
  },
  {
   "cell_type": "markdown",
   "metadata": {},
   "source": [
    "### Definition 1 Random Experiment"
   ]
  },
  {
   "cell_type": "markdown",
   "metadata": {},
   "source": [
    "We have mentioned some key features of **experiment**, it \n",
    "\n",
    "> has a set of possible outcomes, like GDP value;\n",
    "\n",
    "> which outcome really ocur is unknown in advance;\n",
    "\n",
    "> the only way we can figure out which outcome ocurs is to **do** the experiment and observe it."
   ]
  },
  {
   "cell_type": "markdown",
   "metadata": {},
   "source": [
    "## Basic Concepts of Probability\n",
    "\n",
    "Econometrics is built on **probability theory**, about which we'll introduce some basic concepts."
   ]
  },
  {
   "cell_type": "markdown",
   "metadata": {},
   "source": [
    "### Definition 2 Sample Space\n",
    "\n",
    "What we observe in one experiment is called an **outcome**, like your final grade in the course.\n",
    "\n",
    "Let's say this course's grading is one of *A*, *B* and *C*, then one of this three can be your grade. For instance, you get an *A* for this course, then *A* is the **outcome**, but before your score come realized, you have no idea exactly what it is, then it may be one of *A*, *B* and *C*, which combined are called **sample space**, and denoted by $S$, or $\\Omega$ by convention. We use `{}` to denote sets, that is\n",
    "$$S=\\{A,B,C\\}$$"
   ]
  },
  {
   "cell_type": "markdown",
   "metadata": {},
   "source": [
    "In other words, **sample space** is the *set* of all possible outcomes in an experiment.\n",
    "\n",
    "Each possible outcome in a sample space is called an **element**, or **sample point**. \n",
    "\n",
    "We want to draw samples from the sample space and use it to infer the property of interests of the probability associated with eah possible outcome in the sample space."
   ]
  },
  {
   "cell_type": "markdown",
   "metadata": {},
   "source": [
    "### Example 2.1"
   ]
  },
  {
   "cell_type": "markdown",
   "metadata": {},
   "source": [
    "Assume your grade can be *A*, *B* and *C*, and your confidence of *what your grade will be* is equally between these three grades, then every time you run the cell below will yield an outcome."
   ]
  },
  {
   "cell_type": "code",
   "execution_count": null,
   "metadata": {},
   "outputs": [],
   "source": [
    "S = ['A', 'B', 'C']\n",
    "your_final_grade = rand(S, 1)"
   ]
  },
  {
   "cell_type": "markdown",
   "metadata": {},
   "source": [
    "When you run the cell, one and only one of the possible outcome in the sample space gets **realized**, which is assigned to the variable named `your_final_grade`.\n",
    "\n",
    "The process from unknown outcome to a realized outcome is the experiment.\n",
    "\n",
    "Be aware that outcome doesn't have to contain single component."
   ]
  },
  {
   "cell_type": "markdown",
   "metadata": {},
   "source": [
    "### Example 2.2"
   ]
  },
  {
   "cell_type": "markdown",
   "metadata": {},
   "source": [
    "For example, if you roll two coins in one time, and use $H$ for the heads, and $T$ for the tails, and we **ignore the order** of occurance of heads and tails, that is, rolling a head and tail in no matter order is deemed no difference, under which circumstances *HT* and *TH* is the same, both denoted as *HT* for simplicity. Then the possible outcomes for this experiment is\n",
    "$$S=\\{HH, HT, TT\\}$$\n",
    "\n",
    "If, this time, we **consider the order** of occurance, that is, *HT* and *TH* are two distinct outcomes, then the possible outcomes is\n",
    "$$S=\\{HH, HT, TH, TT\\}$$"
   ]
  },
  {
   "cell_type": "markdown",
   "metadata": {},
   "source": [
    "Let's create two functions each is an experiment simulating rolling of two coins, with or without the consideration of order."
   ]
  },
  {
   "cell_type": "code",
   "execution_count": 9,
   "metadata": {},
   "outputs": [
    {
     "data": {
      "text/plain": [
       "roll2_consider_order (generic function with 1 method)"
      ]
     },
     "execution_count": 9,
     "metadata": {},
     "output_type": "execute_result"
    }
   ],
   "source": [
    "\"\"\"\n",
    "even we do not consider the order of heads and tails, \n",
    "occurance of a head and a tail in two rolls is determined by two procedures, HT and TH, not a single HT or TH\n",
    "if we simply rule out one of it, \n",
    "the possibility is evenly spread over three possible outcomes, not the correct four.\n",
    "\"\"\"\n",
    "\n",
    "function roll2_ignore_order()\n",
    "    S = [\"HH\", \"HT\", \"HT\", \"TT\"]\n",
    "    # that's the reason we put two HT in S\n",
    "    rand(S, 1)\n",
    "end\n",
    "\n",
    "\n",
    "function roll2_consider_order()\n",
    "    S = [\"HH\", \"HT\", \"TH\", \"TT\"]\n",
    "    rand(S, 1)\n",
    "end"
   ]
  },
  {
   "cell_type": "markdown",
   "metadata": {},
   "source": [
    "Simply by calling one of the functions we have just defined yields one possible outcomes, under that circumstance."
   ]
  },
  {
   "cell_type": "code",
   "execution_count": 7,
   "metadata": {},
   "outputs": [
    {
     "data": {
      "text/plain": [
       "1-element Array{String,1}:\n",
       " \"HT\""
      ]
     },
     "execution_count": 7,
     "metadata": {},
     "output_type": "execute_result"
    }
   ],
   "source": [
    "roll2_ignore_order()"
   ]
  },
  {
   "cell_type": "markdown",
   "metadata": {},
   "source": [
    "In this case of rolling two coins, each possible outcome is determined by each outcome of two coins. In other words, it's two outcomes of rolling two coins that combined to be possible outcome of the experiment. That's the reason why the possible outcome is composed by two components.\n",
    "\n",
    "> **the number of components in a single possible outcome is the number of detective devices we put in a single experiment.**\n",
    "In example 2.2, we put two detectors each installed on a coin, which tells whether the coin turns out to be a head or a tail.\n",
    "Reading the result of a detector is called an **observation**."
   ]
  },
  {
   "cell_type": "code",
   "execution_count": 25,
   "metadata": {},
   "outputs": [
    {
     "data": {
      "text/plain": [
       "det_roll2 (generic function with 1 method)"
      ]
     },
     "execution_count": 25,
     "metadata": {},
     "output_type": "execute_result"
    }
   ],
   "source": [
    "\"\"\"\n",
    "we can actually incorporate detector into rolling each coin.\n",
    "remember, a detector always tells us whether the coin is H or T, that is,\n",
    "the possible outcome is H or T.\n",
    "\"\"\"\n",
    "\n",
    "function det_roll2()\n",
    "    rolling_a_coin = ['H', 'T']\n",
    "    S₁ = rand(rolling_a_coin, 1)\n",
    "    S₂ = rand(rolling_a_coin, 1)\n",
    "    S = [x*y for x in S₁ for y in S₂]\n",
    "end"
   ]
  },
  {
   "cell_type": "markdown",
   "metadata": {},
   "source": [
    "Simply by calling the function `det_roll2` yields an outcome consisting of two components; each is the result, or **observed value**, detected in each coin."
   ]
  },
  {
   "cell_type": "markdown",
   "metadata": {},
   "source": [
    "Because a coin always turns out to be a head or tail, the sample space can be enumerated exhaustively. \n",
    "\n",
    "This kind of sample space is called *countable* and *finite*, each corresponding to \"enumeratedability\" and \"exhaustivity\"."
   ]
  },
  {
   "cell_type": "markdown",
   "metadata": {},
   "source": [
    "### Example 2.3"
   ]
  },
  {
   "cell_type": "markdown",
   "metadata": {},
   "source": [
    "A sample space can be infinite. For instance, let *t* be the duration in minutes of a round of a MOBA game. The bases of both teams is immune from any kind of damage at the first 6 minutes. Also, the game reaches a tie if neither of the bases is destroyed after an hour. Let *T* be the possible duration of a round of game just starting, then the sample space of *T* is\n",
    "$$S=\\{t\\in\\mathbb{R}: 6\\leq t \\leq 60\\},$$\n",
    "where $\\mathbb{R}$ denotes the real line.\n",
    "\n",
    "*T* can take on any decimal number between 6 and 60 inclusively, simulated by the following function."
   ]
  },
  {
   "cell_type": "code",
   "execution_count": 60,
   "metadata": {
    "scrolled": false
   },
   "outputs": [
    {
     "data": {
      "text/plain": [
       "duration_gameplay (generic function with 1 method)"
      ]
     },
     "execution_count": 60,
     "metadata": {},
     "output_type": "execute_result"
    }
   ],
   "source": [
    "\"\"\"\n",
    "because decimal number can have arbitary length of decimal place, \n",
    "we should tell our function the granularity under which the real line is divided\n",
    "in order for us to choose value from,\n",
    "then, the function takes in one argument as granularity,\n",
    "the larger the granularity, the more precise the outcome will be.\n",
    "\"\"\"\n",
    "\n",
    "function duration_gameplay(gran)\n",
    "    # granularity should be non-negative integer\n",
    "    if gran isa Int64 && gran >= 0\n",
    "        interval = 1/(10^gran)\n",
    "        t = rand(6:interval:60)\n",
    "    else \n",
    "        error(\"granularity should be non-negative integer.\")\n",
    "    end\n",
    "end"
   ]
  },
  {
   "cell_type": "markdown",
   "metadata": {},
   "source": [
    "Everytime we call function `duration_gameplay` yielding a decimal number between 6 and 60, where the argument specifies the length of decimal place of the outcome in this function definition."
   ]
  },
  {
   "cell_type": "code",
   "execution_count": 59,
   "metadata": {
    "scrolled": true
   },
   "outputs": [
    {
     "data": {
      "text/plain": [
       "15.41"
      ]
     },
     "execution_count": 59,
     "metadata": {},
     "output_type": "execute_result"
    }
   ],
   "source": [
    "duration_gameplay(2)"
   ]
  },
  {
   "cell_type": "markdown",
   "metadata": {},
   "source": [
    "In this example, the sample space is **uncountable** and **infinite**, because we can arbitarily specify the granularity."
   ]
  },
  {
   "cell_type": "markdown",
   "metadata": {},
   "source": [
    "### Definition 3 Event"
   ]
  },
  {
   "cell_type": "markdown",
   "metadata": {},
   "source": [
    "The sample space for rolling one cubic dice is\n",
    "$$S=\\{1,2,3,4,5,6\\}$$\n",
    "We can impose more constraints on it, for example, we want a even number. In this case, the constrained set becomes\n",
    "$$A=\\{2,4,6\\}$$\n",
    "The constrained set is called an **event set**, because such event that *we get an even number from rolling one dice* is realized if and only if one of the numbers in the event set is realized.\n",
    "\n",
    "Sample space contains all the elements, or basic outcomes of a random experiment. The event set contains only a part of elements in the sample space, in other words, <u>the event set is a subset of the sample sapce</u>."
   ]
  },
  {
   "cell_type": "markdown",
   "metadata": {},
   "source": [
    "### Example 3.1\n",
    "\n",
    "Let's say the developers in Example 2.3 want to test whether the game lasts too long or too short in order to optimize some settings of the gameplay. A single round finished in less than 10 minutes is deemed too short and one lasting more than 45 minutes is regarded as too long."
   ]
  },
  {
   "cell_type": "markdown",
   "metadata": {},
   "source": [
    "Remember the sample space of the experiment\n",
    " $$S=\\{t\\in\\mathbb{R}: 6\\leq t \\leq 60\\}$$\n",
    "\n",
    "Here, by our specifications, there are three events, \n",
    "* A: *the game lasts too short*;\n",
    "* B: *the game lasts fairly*; \n",
    "* C: *the game lasts too long*\n",
    "\n",
    "each is a subset of the sample space, \n",
    "$$A=\\{t\\in\\mathbb{R}: t<10\\}$$\n",
    "$$B=\\{t\\in\\mathbb{R}: 10<t<45\\}$$\n",
    "$$C=\\{t\\in\\mathbb{R}: t>45\\}$$"
   ]
  },
  {
   "cell_type": "markdown",
   "metadata": {},
   "source": [
    "We can extend the function `duration_gameplay` to not generate duration of a single round, but an evaluation of it, whether it being too long, too short, or just fair."
   ]
  },
  {
   "cell_type": "code",
   "execution_count": 7,
   "metadata": {},
   "outputs": [
    {
     "data": {
      "text/plain": [
       "duration_gameplay (generic function with 2 methods)"
      ]
     },
     "execution_count": 7,
     "metadata": {},
     "output_type": "execute_result"
    }
   ],
   "source": [
    "\"\"\"\n",
    "even though we already have a benchmark to evaluate the duration, that is, 10 min and 45 min,\n",
    "we still need to specify how precise we want our measurement of duration to be, defaulted to be 2.\n",
    "\"\"\"\n",
    "\n",
    "function duration_gameplay(gran=2)\n",
    "    if gran isa Int64 && gran >= 0\n",
    "        interval = 1/(10^gran)\n",
    "        t = rand(6:interval:60)\n",
    "        if t < 10\n",
    "            return 'A'\n",
    "        elseif t > 45\n",
    "            return 'C'\n",
    "        else\n",
    "            return 'B'\n",
    "        end\n",
    "    else \n",
    "        error(\"granularity should be non-negative integer.\")\n",
    "    end\n",
    "end"
   ]
  },
  {
   "cell_type": "markdown",
   "metadata": {},
   "source": [
    "Simply by calling the function, it generate duration of a round, compare it with the benchmarks 10 and 45, then return which event happens in the experiment."
   ]
  },
  {
   "cell_type": "code",
   "execution_count": 8,
   "metadata": {},
   "outputs": [
    {
     "data": {
      "text/plain": [
       "'B': ASCII/Unicode U+0042 (category Lu: Letter, uppercase)"
      ]
     },
     "execution_count": 8,
     "metadata": {},
     "output_type": "execute_result"
    }
   ],
   "source": [
    "duration_gameplay()"
   ]
  }
 ],
 "metadata": {
  "kernelspec": {
   "display_name": "Julia 1.3.1",
   "language": "julia",
   "name": "julia-1.3"
  },
  "language_info": {
   "file_extension": ".jl",
   "mimetype": "application/julia",
   "name": "julia",
   "version": "1.3.1"
  }
 },
 "nbformat": 4,
 "nbformat_minor": 2
}
