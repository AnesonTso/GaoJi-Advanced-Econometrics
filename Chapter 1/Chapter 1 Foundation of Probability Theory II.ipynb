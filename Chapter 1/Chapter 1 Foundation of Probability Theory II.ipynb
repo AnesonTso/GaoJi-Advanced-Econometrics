{
 "cells": [
  {
   "cell_type": "markdown",
   "metadata": {},
   "source": [
    "# Chapter 1 Foundation of Probability Theory Part II\n",
    "\n",
    "#### *Zhuo Jianchao* \n",
    "\n",
    "Feb 4, 2020 *Rev 1*"
   ]
  },
  {
   "cell_type": "markdown",
   "metadata": {},
   "source": [
    "## Fundamental Probability Laws"
   ]
  },
  {
   "cell_type": "markdown",
   "metadata": {},
   "source": [
    "We have discovered what is an experiment, a sample space, an outcome, an event. But so far they are still **sets** *(sample space)* or **subsets** *(event)* or **element of set** *(outcome)*.\n",
    "\n",
    "We haven't touched the concept of **probability** which plays major role in the Econometrics. From now on, we are heading towards danger zone where probability enjoys its dance."
   ]
  },
  {
   "cell_type": "markdown",
   "metadata": {},
   "source": [
    "### Example 4.1\n",
    "Let's put forward a naive example of probability. We roll a coin three times and record the *number of times the coin is landing on a head*. This process is called a **random experiment**. \n",
    "\n",
    "❗️To be aware that every time rolling a coin yiels an outcome which is the **realization** of *one component* of the possible outcome. Because in the experiment, we are told to roll a coin *three* times, only after we get three realizations each for each time's rolling, we have a **realization** for the possible outcome of the experiment. \n",
    "\n",
    "Since the total possible outcomes of three successive rollings of a coin is \n",
    "\n",
    "$$\\{HHH, HHT, HTH, HTT, THH, THT, TTH, TTT\\},$$\n",
    "\n",
    "and we only care the number of heads showing up, then the **sample space** of the experiment is \n",
    "\n",
    "$$S=\\{0, 1, 2, 3\\},$$\n",
    "since the ordering does not make a difference.\n",
    "\n",
    "Because rolling a coin three times, the **possible outcome**, or the number of heads showing up in one experiment consisting of three rollings must be one and only one element in the set $S$.\n",
    "\n",
    "There are 8 possible successive outcomes, 1 of which head shows 1 time, 3 of which head shows 3 times, 3 of which 3 times, and 1 of which 1 time, collected in the table below.\n",
    "\n",
    "|# of heads|0|1|2|3|\n",
    "|:-:|---|---|---|---|\n",
    "|# of occurence|1|3|3|1|\n",
    "\n",
    "we can say that the probability of *rolling three heads*$(HHH)$ is 1/8.\n",
    "\n",
    "The Statement \"rolling three heads\" is actually an **event**. Recall that event set is a subset of sample space. Let's denote the event *rolling three heads* to be $A$. The event set of the event HHH is $\\{3\\}$ since 3 heads showing up in this case, denoted as\n",
    "$$A=\\{3\\}$$\n",
    "\n",
    "And we've already know that the probability of *rolling three heads* is 1/8, which is equivalent to say <u>we **assign** probability of 1/8 to the event A</u>, which is denoted as\n",
    "$$P(A)=\\frac{1}{8}$$\n",
    "\n",
    "As for other events,\n",
    "$$P(B)=\\frac{3}{8}$$\n",
    "\n",
    "$$P(C)=\\frac{3}{8}$$\n",
    "\n",
    "$$P(D)=\\frac{1}{8},$$\n",
    "where *B*, *C* and *D* represent the event of rolling heads two times, one time and naught respectively.\n",
    "\n",
    "Now you gain the basic intuition of probability, we can go further."
   ]
  },
  {
   "cell_type": "markdown",
   "metadata": {},
   "source": [
    "### Definition 4.1 Sigma Algebra 🎉"
   ]
  },
  {
   "cell_type": "markdown",
   "metadata": {},
   "source": [
    "I know the name is frightening, but please stay with me and do not be scared by the title. Let's start it with the example we have explored previously in the Example 4.1.\n",
    "\n",
    "Still, we roll a coin three times as an experiment and observe the number of heads showing up.\n",
    "\n",
    "For convenient reference, we paste the table below, which is the number of occurance of the corresponding number of heads.\n",
    "\n",
    "|# of heads|0|1|2|3|\n",
    "|:-:|---|---|---|---|\n",
    "|# of occurence|1|3|3|1|\n",
    "\n",
    "There are four events and its corresponding probability we have discovered already, \n",
    "\n",
    "* *A* is the event that three heads showing up\n",
    "* *B* is the event that two heads showing up\n",
    "* *C* is the event that one head showing up\n",
    "* *D* is the event that no heads showing up\n",
    "\n",
    "But now, let's put forward some more events and investigate its probability.\n",
    "\n",
    "How about the probability of the event that *the number of rolling heads is **not** three times*? We use $^\\mathrm{c}$ to denote `complement` in set theory, that is, the event is denoted as $A^\\mathrm{c}$, then the probability of such event is \n",
    "$$P(A^\\mathrm{c})=P(B)+P(C)+P(D)=\\frac{1}{8}+\\frac{3}{8}+\\frac{3}{8}=\\frac{7}{8},$$ \n",
    "\n",
    "or simply and intuitively,\n",
    "\n",
    "$$P(A^\\mathrm{c})=1-P(A)=1-\\frac{1}{8}=\\frac{7}{8}$$ \n",
    "\n",
    "Also, how about the probability of the event that *rolling heads more than one time*? This question is equivalent to rolling heads two times ***or*** three times. We use union symbol $\\cup$ to denote `or` in set theory, then the event that *rolling heads more than one time* is denoted as $A\\cup B$, the probability of such event is\n",
    "$$P(A\\cup B)=P(A)+P(B)=\\frac{1}{8}+\\frac{3}{8}=\\frac{4}{8}$$"
   ]
  },
  {
   "cell_type": "markdown",
   "metadata": {},
   "source": [
    "Not only these events, by the same way performed as before, we can also **figure out the exact probability** of following events.\n",
    "\n",
    "* $B^\\mathrm{c}$, $C^\\mathrm{c}$, $D^\\mathrm{c}$\n",
    "* $A\\cup C$, $B\\cup C$\n",
    "* $A\\cup B\\cup C$, $A\\cup B\\cup D$, $A\\cup C\\cup D$, $B\\cup C\\cup D$\n",
    "* $A\\cup B\\cup C\\cup D$ = $S$ = $\\emptyset^\\mathrm{c}$\n",
    "* $\\emptyset$ = $S^\\mathrm{c},$\n",
    "where $\\emptyset$ indicates none of the events happening."
   ]
  },
  {
   "cell_type": "markdown",
   "metadata": {},
   "source": [
    "The probabilities of the events listed above can be calculated because we have known the probability of events A, B, C and D, and by performing compliment and union operation, we can easily calculate the probability of any event listed above.\n",
    "\n",
    "**The set containing those events whose probability can be calculated by some events whose probability is already known is called a $\\sigma$-algebra of the sample space $S$, where the events with known probability belong**. \n",
    "\n",
    "In this case, \n",
    "\n",
    "$$\\sigma = \\{\\emptyset, \\{A\\},\\{B\\},\\{C\\},\\{D\\},\\{A,B\\},\\{A,C\\},\\{A,D\\},\\{B,C\\},\\{B,D\\},\\{C,D\\},\\{A,B,C\\},\\{A,B,D\\},\\{B,C,D\\},\\{A,B,C,D\\}\\}$$\n",
    "\n",
    "Any element in the $\\sigma$-algebra can be constructed by the elements with known probability which is A, B, C, and D, and the operation **compliment** and **union**, and that's the formal definition of a $\\sigma$-algebra."
   ]
  },
  {
   "cell_type": "markdown",
   "metadata": {},
   "source": [
    "### Properties of Sigma Algebra"
   ]
  },
  {
   "cell_type": "markdown",
   "metadata": {},
   "source": [
    "A $\\sigma$-algebra, denoted as $\\mathbb{B}$ is a collection of subsets of a set $S$ such that the following conditions hold:\n",
    "1. $\\emptyset \\in \\mathbb{B}$;\n",
    "2. If $A \\in \\mathbb{B}$, then $A^\\mathrm{c} \\in \\mathbb{B}$ as well;\n",
    "3. If $A_1, A_2,\\cdots \\in \\mathbb{B}$, then $\\cup_{i=1}^{n}{A_i} \\in \\mathbb{B}$\n",
    "\n",
    "From the properties above, we can have some deductions:\n",
    "1. the empty set and sample space $S$ is included in $\\mathbb{B}$;\n",
    "2. the $\\mathbb{B}$ is closed under countable complement;\n",
    "3. the $\\mathbb{B}$ is closed under countable unions."
   ]
  },
  {
   "cell_type": "markdown",
   "metadata": {},
   "source": [
    "Note that any element in the $\\sigma$-algebra is a **symbolic statement** of an event, for example,\n",
    "\n",
    "* $S$ denotes the event that *the number of heads rolled is 0 or 1 or 2 or 3*.\n",
    "* $\\emptyset$, the complement of $S$, represents the event that *the number of heads rolled is not 0 and 1 and 2 and 3*.\n",
    "* $\\{B,C\\}$ stands for the event that *the number of heads rolled is 1 or 2*, etc.\n",
    "\n",
    "The $\\sigma$-algebra contains all the events whose associated probability can be calculated. In other words, we can assign **probability** to the events in the $\\sigma$-algebra. We don't manually assign probability to an event, instead, it's generated from **probability function**, which is a function assigning probability to each event in the $\\sigma$-algebra. \n",
    "\n",
    "Since every event in the $\\sigma$-algebra has a specific probability, that is to say, the probability of the event in the $\\sigma$-algebra is **measurable**. \n",
    "\n",
    "So the pair, ($S$, $\\mathbb{B}$) is called a **measurable space**. The probability function assign probability to events in the measurable space, that is to say, the measurable space is the **domain** of probability function. "
   ]
  },
  {
   "cell_type": "markdown",
   "metadata": {},
   "source": [
    "$\\sigma$-algebra provides us a set of reasonable events, any event out of the $\\sigma$-algebra has no probability associated with it. To be clear, *have no probability* is different from *with probability of zero*. For instance, the event *rolling heads 4 times* in this example is impossible, hence has probability of 0 and is in the $\\sigma$-algebra. Whereas the event *first roll showing up a head* is utterly irrelevant considering the sample space hence is not in the $\\sigma$-algebra of $S$."
   ]
  },
  {
   "cell_type": "markdown",
   "metadata": {},
   "source": [
    "### Definition 4.2 Generated Sigma Algebra"
   ]
  },
  {
   "cell_type": "markdown",
   "metadata": {},
   "source": [
    "Ask a pragmatic question: **how to find the $\\sigma$-algebra?** Does every time to find a $\\sigma$-algebra we need to play such a word game that what are possible events associated with the sample space? \n",
    "\n",
    "Not necessary, just put another simple example. \n",
    "\n",
    "Let's say $\\Omega = \\{1,2,3\\}$, then what are **subsets** of $\\Omega$?\n",
    "\n",
    "If we take one element each time from it, we get $\\{1\\}$, $\\{2\\}$ and $\\{3\\}$; if we take two, we get $\\{1,2\\}$, $\\{1,3\\}$ and $\\{2,3\\}$; if we take three, that will be the $\\Omega$ as a whole $\\{1,2,3\\}$.\n",
    "\n",
    "But remember that empty set is a set included in every set. Then $\\{\\emptyset\\}$ is also a subset of $\\Omega$.\n",
    "\n",
    "Denote the non-empty collection of subsets of $\\Omega$ as $\\mathbb{B}$, then\n",
    "\n",
    "$$\\mathbb{B}=\\{\\emptyset,\\{1\\},\\{2\\},\\{3\\},\\{1,2\\},\\{2,3\\},\\{1,3\\},\\{1,2,3\\}\\}$$\n",
    "\n",
    "Note that elements in the $\\mathbb{B}$ satisfies properties of a $\\sigma$-algebra, that is, the $\\mathbb{B}$ is a $\\sigma$-algebra.\n",
    "\n",
    "$\\mathbb{B}$ can be **subset** of other $\\sigma$-algebra. If $\\mathbb{C}$ is the collection of subsets of $S$, where $S=\\{1,2,3,4\\}$, then $\\mathbb{C}$ is a $\\sigma$-algebra and the $\\mathbb{B}$ is **included** in $\\mathbb{C}$, try it! \n",
    "\n",
    "We can deduce it further that there will be infinitely many $\\sigma$-algebra that contains the $\\sigma$-algebra constructed using elements of $\\Omega$, that is, $\\mathbb{B}$. Take intersection of those infinite $\\sigma$-algebra that include $\\mathbb{B}$ we have a $\\sigma$-algebra identical to $\\mathbb{B}$, which is called the **smallest sigma algebra**, or **sigma algebra generated by $\\Omega$**, denoted as $\\sigma(\\Omega)$.\n",
    "\n",
    "Since the intersection of those $\\sigma$-algebra which contains $\\sigma$-algebra generated by some set $X$, that is $\\sigma(X)$, is identical to the $\\sigma$-algebra generated by $X$, why bother should we put forward another concept? In other words, what is the difference between a $\\sigma$-algebra and a smallest $\\sigma$-algebra?\n",
    "\n",
    "Any non-empty collection of sets whose elements satisfy the properties of sigma algebra can be called a sigma algebra. It doesn't matter *what the elements are* but ***how do they behave***. As long as they behave like elements of sigma algebra, they form a sigma algebra.\n",
    "\n",
    "As for the smallest sigma algebra, **what the elements are** come into play. Different collection of subsets forms a different sigma algebra generated by some set, or different smallest sigma algebra of some set."
   ]
  },
  {
   "cell_type": "markdown",
   "metadata": {},
   "source": [
    "Why do smallest sigma algebra so important in probability theory? Because the smallest sigma algebra generated by the sample space $\\Omega$, that is, $\\sigma(\\Omega)$, is the **collection of all possible events** in a random experiment."
   ]
  },
  {
   "cell_type": "markdown",
   "metadata": {},
   "source": [
    "### Definition 5 Probability Function"
   ]
  },
  {
   "cell_type": "markdown",
   "metadata": {},
   "source": [
    "We've mentioned probability function many times but haven't given a precise definition yet. Now it's time since we have covered all the necessary concepts. We say the probability function is a function which is defined on the measurable space, and assigns real-numbered values to the element or event in the sigma algebra. \n",
    "\n",
    "Suppose a random experiment has a sample space $S$ and a $\\sigma$-algebra $\\mathbb{B}$ associated with it. Then $(S,\\mathbb{B})$ is a measurable space. A probability function $P:\\mathbb{B} \\rightarrow [0,1]$ is a mapping defined on the sigma algebra $\\mathbb{B}$ to a real-numbered value between 0 and 1 that has the following properties:\n",
    "\n",
    "1. $0\\leq P(A) \\leq 1$, for any event $A$ in $\\mathbb{B}$;\n",
    "2. $P(S)=1$;\n",
    "3. $If A_1, A_2, \\dots \\in \\mathbb{B}$ are mutually exclusive, then $P(\\cup_{i=1}^\\infty A_i)=\\sum_{i=1}^\\infty P(A_i)$.\n",
    "\n",
    "Some discussions about the properties above are:\n",
    "1. Every event in the sigma algebra are *qualified* enough to get a real-numbered value indicating their likelihood of occurence, which is between 0 and 1 by our convention, that an impossible event has a probability of 0 and a certain event has probability of 1.\n",
    "2. The requirement that $P(S)=1$ means every time we do the random experiment, there'll always be one event that happens no matter what it is. The experiment always returns an outcome which we can observe.\n",
    "3. the property(3) tells us how to calculate probability of event which is composed with multiple disjoint event.\n",
    "\n",
    "Any function which satisfies the properties of probability function is a probability function defined on the measurable space. A single random experiment has an associated measurable space but inifinitely many probability function. To find a probability function suitably describing actual situation is a vital part of work for econometrician."
   ]
  },
  {
   "cell_type": "markdown",
   "metadata": {},
   "source": [
    "### Definition 6 Probability Space"
   ]
  },
  {
   "cell_type": "markdown",
   "metadata": {},
   "source": [
    "Once we have the measurable set $(S,\\mathbb{B})$, define a probability function as a measure, we determine a **probability space** $(S,\\mathbb{B}, P)$. \n",
    "\n",
    "A probability space completely describes a random experiment. We use a simple example to illustrate it; no matter how abstract the random experiment is, basics are the same."
   ]
  },
  {
   "cell_type": "markdown",
   "metadata": {},
   "source": [
    "### Example 6.1"
   ]
  },
  {
   "cell_type": "markdown",
   "metadata": {},
   "source": [
    "If we are to roll a coin once, and record which face it lands on, with $H$ denoting head, and $T$ denoting tail.\n",
    "\n",
    "We know the sample space is $\\{H,T\\}$, and the sigma algebra associated with it is $\\{\\emptyset,H,T,\\{H,T\\}\\}$, and the probability function $P$ is that:\n",
    "\n",
    "$$\\begin{align}\n",
    " P(\\emptyset)=0\\\\\n",
    " P(H)=\\frac{1}{2}\\\\\n",
    " P(T)=\\frac{1}{2}\\\\\n",
    " P(H,T)=1\n",
    "\\end{align}\n",
    "$$\n",
    "\n",
    "Probability function takes one event from the sigma algebra and maps it to a real-numbered value between 0 and 1."
   ]
  }
 ],
 "metadata": {
  "kernelspec": {
   "display_name": "Julia 1.3.1",
   "language": "julia",
   "name": "julia-1.3"
  },
  "language_info": {
   "file_extension": ".jl",
   "mimetype": "application/julia",
   "name": "julia",
   "version": "1.3.1"
  }
 },
 "nbformat": 4,
 "nbformat_minor": 2
}
