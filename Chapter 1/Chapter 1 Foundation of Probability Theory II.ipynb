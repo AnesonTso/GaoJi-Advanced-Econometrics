{
 "cells": [
  {
   "cell_type": "markdown",
   "metadata": {},
   "source": [
    "# Chapter 1 Foundation of Probability Theory Part II\n",
    "\n",
    "#### *Zhuo Jianchao* \n",
    "\n",
    "Feb 4, 2020 *Rev 1*"
   ]
  },
  {
   "cell_type": "markdown",
   "metadata": {},
   "source": [
    "## Fundamental Probability Laws"
   ]
  },
  {
   "cell_type": "markdown",
   "metadata": {},
   "source": [
    "We have discovered what is an experiment, a sample space, an outcome, an event. But so far they are still **sets** *(sample space)* or **subsets** *(event)* or **element of set** *(outcome)*.\n",
    "\n",
    "We haven't touched the concept of **probability** which plays major role in the Econometrics. From now on, we are heading towards danger zone where probability enjoys its dance."
   ]
  },
  {
   "cell_type": "markdown",
   "metadata": {},
   "source": [
    "### Example 4.1\n",
    "Let's put forward a naive example of probability. We roll a coin three times and record the *number of times the coin is landing on a head*. This process is called a **random experiment**. \n",
    "\n",
    "❗️To be aware that every time rolling a coin yiels an outcome which is the **realization** of *one component* of the possible outcome. Because in the experiment, we are told to roll a coin *three* times, only after we get three realizations each for each time's rolling, we have a **realization** for the possible outcome of the experiment. \n",
    "\n",
    "Since the total possible outcomes of three successive rollings of a coin is \n",
    "$$\\{HHH, HHT, HTH, HTT, THH, THT, TTH, TTT\\},$$\n",
    "and we only care the number of heads showing up, then the **sample space** of the experiment is \n",
    "$$S=\\{0, 1, 2, 3\\},$$\n",
    "since the ordering does not make a difference.\n",
    "\n",
    "Because rolling a coin three times, the **possible outcome**, or the number of heads showing up in one experiment consisting of three rollings must be one and only one element in the set $S$.\n",
    "\n",
    "There are 8 possible successive outcomes, 1 of which head shows 1 time, 3 of which head shows 3 times, 3 of which 3 times, and 1 of which 1 time, collected in the table below.\n",
    "\n",
    "|# of heads|0|1|2|3|\n",
    "|:-:|---|---|---|---|\n",
    "|# of occurence|1|3|3|1|\n",
    "\n",
    "we can say that the probability of *rolling three heads*$(HHH)$ is 1/8.\n",
    "\n",
    "The Statement \"rolling three heads\" is actually an **event**. Recall that event set is a subset of sample space. Let's denote the event *rolling three heads* to be $A$. The event set of the event HHH is $\\{3\\}$ since 3 heads showing up in this case, denoted as\n",
    "$$A=\\{3\\}$$\n",
    "\n",
    "And we've already know that the probability of *rolling three heads* is 1/8, which is equivalent to say <u>we **assign** probability of 1/8 to the event A</u>, which is denoted as\n",
    "$$P(A)=\\frac{1}{8}$$\n",
    "\n",
    "As for other events,\n",
    "$$P(B)=\\frac{3}{8}$$\n",
    "\n",
    "$$P(C)=\\frac{3}{8}$$\n",
    "\n",
    "$$P(D)=\\frac{1}{8},$$\n",
    "where *B*, *C* and *D* represent the event of rolling heads two times, one time and naught respectively.\n",
    "\n",
    "Now you gain the basic intuition of probability, we can go further."
   ]
  },
  {
   "cell_type": "markdown",
   "metadata": {},
   "source": [
    "### Definition 4 Sigma Algebra 🎉"
   ]
  },
  {
   "cell_type": "markdown",
   "metadata": {},
   "source": [
    "I know the name is frightening, but please stay with me and do not be scared by the title. Let's start it with the example we have explored previously in the Example 4.1.\n",
    "\n",
    "Still, we roll a coin three times as an experiment and observe the number of heads showing up.\n",
    "\n",
    "For convenient reference, we paste the table below, which is the number of occurance of the corresponding number of heads.\n",
    "\n",
    "|# of heads|0|1|2|3|\n",
    "|:-:|---|---|---|---|\n",
    "|# of occurence|1|3|3|1|\n",
    "\n",
    "There are four events and its corresponding probability we have discovered already, \n",
    "\n",
    "* *A* is the event that three heads showing up\n",
    "* *B* is the event that two heads showing up\n",
    "* *C* is the event that one head showing up\n",
    "* *D* is the event that no heads showing up\n",
    "\n",
    "But now, let's put forward some more events and investigate its probability.\n",
    "\n",
    "How about the probability of the event that *the number of rolling heads is **not** three times*? We use $^\\mathrm{c}$ to denote `complement` in set theory, that is, the event is denoted as $A^\\mathrm{c}$, then the probability of such event is \n",
    "$$P(A^\\mathrm{c})=P(B)+P(C)+P(D)=\\frac{1}{8}+\\frac{3}{8}+\\frac{3}{8}=\\frac{7}{8},$$ \n",
    "\n",
    "or simply and intuitively,\n",
    "\n",
    "$$P(A^\\mathrm{c})=1-P(A)=1-\\frac{1}{8}=\\frac{7}{8}$$ \n",
    "\n",
    "Also, how about the probability of the event that *rolling heads more than one time*? This question is equivalent to rolling heads two times ***or*** three times. We use union symbol $\\cup$ to denote `or` in set theory, then the event that *rolling heads more than one time* is denoted as $A\\cup B$, the probability of such event is\n",
    "$$P(A\\cup B)=P(A)+P(B)=\\frac{1}{8}+\\frac{3}{8}=\\frac{4}{8}$$"
   ]
  },
  {
   "cell_type": "markdown",
   "metadata": {},
   "source": [
    "Not only these events, by the same way performed as before, we can also **figure out the exact probability** of following events.\n",
    "\n",
    "* $B^\\mathrm{c}$, $C^\\mathrm{c}$, $D^\\mathrm{c}$\n",
    "* $A\\cup C$, $B\\cup C$\n",
    "* $A\\cup B\\cup C$, $A\\cup B\\cup D$, $A\\cup C\\cup D$, $B\\cup C\\cup D$\n",
    "* $A\\cup B\\cup C\\cup D$ = $S$ = $\\emptyset^\\mathrm{c}$\n",
    "* $\\emptyset$ = $S^\\mathrm{c}$"
   ]
  },
  {
   "cell_type": "markdown",
   "metadata": {},
   "source": [
    "The probabilities of the events listed above can be calculated because we have known the probability of events A, B, C and D, and by performing compliment and union operation, we can easily calculate the probability of any event listed above.\n",
    "\n",
    "The set containing those events whose probability can be calculated by some events whose probability is already known is called a $\\sigma$-algebra of the sample space $S$, where the events with known probability belong."
   ]
  }
 ],
 "metadata": {
  "kernelspec": {
   "display_name": "Julia 1.3.1",
   "language": "julia",
   "name": "julia-1.3"
  },
  "language_info": {
   "file_extension": ".jl",
   "mimetype": "application/julia",
   "name": "julia",
   "version": "1.3.1"
  }
 },
 "nbformat": 4,
 "nbformat_minor": 2
}
