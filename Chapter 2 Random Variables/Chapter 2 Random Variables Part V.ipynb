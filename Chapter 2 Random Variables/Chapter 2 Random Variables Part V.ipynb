{
 "cells": [
  {
   "cell_type": "markdown",
   "metadata": {},
   "source": [
    "# Chapter 2 Random Variables Part V\n",
    "\n",
    "#### *Zhuo Jianchao* \n",
    "\n",
    "Feb 15, 2020 *Rev 1*"
   ]
  },
  {
   "cell_type": "markdown",
   "metadata": {},
   "source": [
    "## Mathematical Expectations"
   ]
  },
  {
   "cell_type": "markdown",
   "metadata": {},
   "source": [
    "Probability function provides full information about a random variable by telling us what possible value it can take and its corresponding probability or probability density around it, but when a random variable hasn't realized, what should we *expect* it to be? \n",
    "\n",
    "If we are to use one number to describe multiple numbers we may choose arithmetic mean of those numbers, as for random variable we use expectation, or mean."
   ]
  },
  {
   "cell_type": "markdown",
   "metadata": {},
   "source": [
    "### Definition 11 Expectation"
   ]
  },
  {
   "cell_type": "markdown",
   "metadata": {},
   "source": [
    "The expectation of a random variable $X$ is denoted as $E(X)$ or $\\mu_{X}$.\n",
    "\n",
    "For a discrete random variable $X$ with PMF $f_{X}(x)$, the expectation of $X$ is \n",
    "$$E(X)=\\sum_{x \\in \\Omega_{X}}xf_{X}(x)$$\n",
    "\n",
    "For a continuous random variable $X$ with PDF $f_{X}(x)$, the expectation of $X$ is \n",
    "$$E(X)=\\int_{-\\infty}^{+\\infty}xf_{X}(x) \\: dx $$\n",
    "\n",
    "Note that the expectation may not exist as long as the \"summation\" or \"integral\" in continuous sense doesn't converge. \n",
    "\n",
    "The expectation of a random variable measures the center point of all possible values and their associated probabilities, or the value we can expect from the random variable."
   ]
  },
  {
   "cell_type": "markdown",
   "metadata": {},
   "source": [
    "### Intuition of Expectation"
   ]
  },
  {
   "cell_type": "markdown",
   "metadata": {},
   "source": [
    "The expectation of a random variable tells us where is the balance point of it. To better understand this statement, try to think of a see-saw with graduations marked on it. \n",
    "* If there is a 20*kg* at -2, and 20*kg* at 2, we know that if the fulcrum is at 0, the see-saw is balanced.\n",
    "* If there is a 20*kg* at -2, and 30*kg* at 1, where should the fulcrum be to keep this see-saw's balance? That would be $-2 \\times 20 + 1 \\times 30 = -10$\n",
    "* Same idea is applied to multiple weights at multiple places.\n",
    "\n",
    "Since random variable takes on values in the real line with probability assigned to it, we can take its values as positions and the associated probabilities as weights. Check the definition of expectation of a random variable, we can find this is exactly what we call the balance point of a random variable."
   ]
  },
  {
   "cell_type": "markdown",
   "metadata": {},
   "source": [
    "### Properties of Expectation"
   ]
  },
  {
   "cell_type": "markdown",
   "metadata": {},
   "source": [
    "1. *(Linearity of Expectation)* Expectation is a linear transformation. If $f_1(\\cdot)$ and $f_2(\\cdot)$ are two measurable mappings of $X$, and two constants $a, b \\in (-\\infty,+\\infty)$, then the expectation of $af_1(X)+bf_2(X)$ is\n",
    "$$E[af_1(X)+bf_2(X)]=aE(f_1(X))+bE(f_2(X))$$\n",
    "In particular, $E[f(X)+a)]=E[f(X)]+a$, which means if the see-saw is moved in one direction at a certain distance, the balanced point should move in the same direction at same distance.\n",
    "2. If there are two random variable $X$ and $Y$, regardless of being independent or not, the expected value of $X \\pm Y$ is that \n",
    "$$E(X \\pm Y)=E(X) \\pm E(Y)$$\n",
    "It indicates that if we are to combine two see-saws of real line, adding(removing) weights of one see-saw to(from ) another at the corresponding graduation, then the new balance of the new see-saw would be the arithmetic plus(minus) of two balances of the original see-saws."
   ]
  },
  {
   "cell_type": "markdown",
   "metadata": {},
   "source": [
    "## Variance"
   ]
  },
  {
   "cell_type": "markdown",
   "metadata": {},
   "source": [
    "Use mean to describe a bounch of numbers is straightforward, but can be not sufficient. For example, $[0,0,0,0]$ has the same mean as that of $[1,2,3,-6]$, what should we expect from it? We know that these two bunches of numbers have the same balance at the real line, but the former are four exactly the same numbers and the latter is relatively more spred out. So is the same for a random variable.\n",
    "\n",
    "**Variance** of a random variable $X$ measures how spread out the realizations of $X$ is around its mean $E(X)$."
   ]
  },
  {
   "cell_type": "markdown",
   "metadata": {},
   "source": [
    "### Definition 12 Variance"
   ]
  },
  {
   "cell_type": "markdown",
   "metadata": {},
   "source": [
    "The variance of a random variable $X$, denoted as $\\sigma_{X}^2$ is defined as\n",
    "$$\\sigma_{X}^2=E(X-\\mu_{X})^2$$\n",
    "\n",
    "For a discrete random variable $X$ with PMF $f_{X}(x)$, \n",
    "$$\\sigma_{X}^2=E(X-\\mu_{X})^2=\\sum_{x \\in \\Omega_{X}}(x-\\mu_{X})^2 f_{X}(x)$$\n",
    "\n",
    "For a continuous random variable $X$ with PDF $f_{X}(x)$, \n",
    "$$\\sigma_{X}^2=E(X-\\mu_{X})^2=\\int_{-\\infty}^{+\\infty}(x-\\mu_{X})^2f_{X}(x)\\:dx$$\n",
    "\n",
    "where $\\Omega_{X}$ denotes the support of $X$.\n",
    "\n",
    "The term $X-\\mu_{X}$ is called the **deviation from the mean**, it evaluates the distance between $X$'s realization and its mean. We can see that the variance is the **expectation of the squared deviation from the mean**.\n",
    "\n",
    "---\n",
    "Note that variance is the expectation of a square, it is not the same magnitude as mean, so we can take squre root of $\\sigma_{X}^2$, yielding \n",
    "$$\\sigma_{X}=\\sqrt{\\sigma_{X}^2}$$\n",
    "which is called the **standard deviation** of $X$, which measures on average, what distance is the realizations of random variable away from its mean.\n",
    "\n",
    "The variance is defined as the expectation of the squared distance between the random variable and its mean, so it's always non-negative, with zero variance indicating perfect concentration of realizations of a random variable, and higher variance meaning further away its realizations from its mean."
   ]
  },
  {
   "cell_type": "code",
   "execution_count": 1,
   "metadata": {},
   "outputs": [],
   "source": [
    "using Plots\n",
    "using Distributions\n",
    "using StatsPlots"
   ]
  },
  {
   "cell_type": "code",
   "execution_count": 2,
   "metadata": {},
   "outputs": [
    {
     "data": {
      "image/svg+xml": [
       "<?xml version=\"1.0\" encoding=\"utf-8\"?>\n",
       "<svg xmlns=\"http://www.w3.org/2000/svg\" xmlns:xlink=\"http://www.w3.org/1999/xlink\" width=\"600\" height=\"400\" viewBox=\"0 0 2400 1600\">\n",
       "<defs>\n",
       "  <clipPath id=\"clip8600\">\n",
       "    <rect x=\"0\" y=\"0\" width=\"2400\" height=\"1600\"/>\n",
       "  </clipPath>\n",
       "</defs>\n",
       "<path clip-path=\"url(#clip8600)\" d=\"\n",
       "M0 1600 L2400 1600 L2400 0 L0 0  Z\n",
       "  \" fill=\"#ffffff\" fill-rule=\"evenodd\" fill-opacity=\"1\"/>\n",
       "<defs>\n",
       "  <clipPath id=\"clip8601\">\n",
       "    <rect x=\"480\" y=\"0\" width=\"1681\" height=\"1600\"/>\n",
       "  </clipPath>\n",
       "</defs>\n",
       "<path clip-path=\"url(#clip8600)\" d=\"\n",
       "M153.898 1487.47 L2352.76 1487.47 L2352.76 47.2441 L153.898 47.2441  Z\n",
       "  \" fill=\"#ffffff\" fill-rule=\"evenodd\" fill-opacity=\"1\"/>\n",
       "<defs>\n",
       "  <clipPath id=\"clip8602\">\n",
       "    <rect x=\"153\" y=\"47\" width=\"2200\" height=\"1441\"/>\n",
       "  </clipPath>\n",
       "</defs>\n",
       "<polyline clip-path=\"url(#clip8602)\" style=\"stroke:#000000; stroke-width:2; stroke-opacity:0.1; fill:none\" points=\"\n",
       "  499.047,1487.47 499.047,47.2441 \n",
       "  \"/>\n",
       "<polyline clip-path=\"url(#clip8602)\" style=\"stroke:#000000; stroke-width:2; stroke-opacity:0.1; fill:none\" points=\"\n",
       "  1079.26,1487.47 1079.26,47.2441 \n",
       "  \"/>\n",
       "<polyline clip-path=\"url(#clip8602)\" style=\"stroke:#000000; stroke-width:2; stroke-opacity:0.1; fill:none\" points=\"\n",
       "  1659.48,1487.47 1659.48,47.2441 \n",
       "  \"/>\n",
       "<polyline clip-path=\"url(#clip8602)\" style=\"stroke:#000000; stroke-width:2; stroke-opacity:0.1; fill:none\" points=\"\n",
       "  2239.69,1487.47 2239.69,47.2441 \n",
       "  \"/>\n",
       "<polyline clip-path=\"url(#clip8602)\" style=\"stroke:#000000; stroke-width:2; stroke-opacity:0.1; fill:none\" points=\"\n",
       "  153.898,1487.47 2352.76,1487.47 \n",
       "  \"/>\n",
       "<polyline clip-path=\"url(#clip8602)\" style=\"stroke:#000000; stroke-width:2; stroke-opacity:0.1; fill:none\" points=\"\n",
       "  153.898,1127.42 2352.76,1127.42 \n",
       "  \"/>\n",
       "<polyline clip-path=\"url(#clip8602)\" style=\"stroke:#000000; stroke-width:2; stroke-opacity:0.1; fill:none\" points=\"\n",
       "  153.898,767.359 2352.76,767.359 \n",
       "  \"/>\n",
       "<polyline clip-path=\"url(#clip8602)\" style=\"stroke:#000000; stroke-width:2; stroke-opacity:0.1; fill:none\" points=\"\n",
       "  153.898,407.302 2352.76,407.302 \n",
       "  \"/>\n",
       "<polyline clip-path=\"url(#clip8602)\" style=\"stroke:#000000; stroke-width:2; stroke-opacity:0.1; fill:none\" points=\"\n",
       "  153.898,47.2441 2352.76,47.2441 \n",
       "  \"/>\n",
       "<polyline clip-path=\"url(#clip8600)\" style=\"stroke:#000000; stroke-width:4; stroke-opacity:1; fill:none\" points=\"\n",
       "  153.898,1487.47 2352.76,1487.47 \n",
       "  \"/>\n",
       "<polyline clip-path=\"url(#clip8600)\" style=\"stroke:#000000; stroke-width:4; stroke-opacity:1; fill:none\" points=\"\n",
       "  153.898,1487.47 153.898,47.2441 \n",
       "  \"/>\n",
       "<polyline clip-path=\"url(#clip8600)\" style=\"stroke:#000000; stroke-width:4; stroke-opacity:1; fill:none\" points=\"\n",
       "  499.047,1487.47 499.047,1470.19 \n",
       "  \"/>\n",
       "<polyline clip-path=\"url(#clip8600)\" style=\"stroke:#000000; stroke-width:4; stroke-opacity:1; fill:none\" points=\"\n",
       "  1079.26,1487.47 1079.26,1470.19 \n",
       "  \"/>\n",
       "<polyline clip-path=\"url(#clip8600)\" style=\"stroke:#000000; stroke-width:4; stroke-opacity:1; fill:none\" points=\"\n",
       "  1659.48,1487.47 1659.48,1470.19 \n",
       "  \"/>\n",
       "<polyline clip-path=\"url(#clip8600)\" style=\"stroke:#000000; stroke-width:4; stroke-opacity:1; fill:none\" points=\"\n",
       "  2239.69,1487.47 2239.69,1470.19 \n",
       "  \"/>\n",
       "<polyline clip-path=\"url(#clip8600)\" style=\"stroke:#000000; stroke-width:4; stroke-opacity:1; fill:none\" points=\"\n",
       "  153.898,1487.47 180.284,1487.47 \n",
       "  \"/>\n",
       "<polyline clip-path=\"url(#clip8600)\" style=\"stroke:#000000; stroke-width:4; stroke-opacity:1; fill:none\" points=\"\n",
       "  153.898,1127.42 180.284,1127.42 \n",
       "  \"/>\n",
       "<polyline clip-path=\"url(#clip8600)\" style=\"stroke:#000000; stroke-width:4; stroke-opacity:1; fill:none\" points=\"\n",
       "  153.898,767.359 180.284,767.359 \n",
       "  \"/>\n",
       "<polyline clip-path=\"url(#clip8600)\" style=\"stroke:#000000; stroke-width:4; stroke-opacity:1; fill:none\" points=\"\n",
       "  153.898,407.302 180.284,407.302 \n",
       "  \"/>\n",
       "<polyline clip-path=\"url(#clip8600)\" style=\"stroke:#000000; stroke-width:4; stroke-opacity:1; fill:none\" points=\"\n",
       "  153.898,47.2441 180.284,47.2441 \n",
       "  \"/>\n",
       "<g clip-path=\"url(#clip8600)\">\n",
       "<text style=\"fill:#000000; fill-opacity:1; font-family:Arial,Helvetica Neue,Helvetica,sans-serif; font-size:48px; text-anchor:middle;\" transform=\"rotate(0, 499.047, 1541.47)\" x=\"499.047\" y=\"1541.47\">-5</text>\n",
       "</g>\n",
       "<g clip-path=\"url(#clip8600)\">\n",
       "<text style=\"fill:#000000; fill-opacity:1; font-family:Arial,Helvetica Neue,Helvetica,sans-serif; font-size:48px; text-anchor:middle;\" transform=\"rotate(0, 1079.26, 1541.47)\" x=\"1079.26\" y=\"1541.47\">0</text>\n",
       "</g>\n",
       "<g clip-path=\"url(#clip8600)\">\n",
       "<text style=\"fill:#000000; fill-opacity:1; font-family:Arial,Helvetica Neue,Helvetica,sans-serif; font-size:48px; text-anchor:middle;\" transform=\"rotate(0, 1659.48, 1541.47)\" x=\"1659.48\" y=\"1541.47\">5</text>\n",
       "</g>\n",
       "<g clip-path=\"url(#clip8600)\">\n",
       "<text style=\"fill:#000000; fill-opacity:1; font-family:Arial,Helvetica Neue,Helvetica,sans-serif; font-size:48px; text-anchor:middle;\" transform=\"rotate(0, 2239.69, 1541.47)\" x=\"2239.69\" y=\"1541.47\">10</text>\n",
       "</g>\n",
       "<g clip-path=\"url(#clip8600)\">\n",
       "<text style=\"fill:#000000; fill-opacity:1; font-family:Arial,Helvetica Neue,Helvetica,sans-serif; font-size:48px; text-anchor:end;\" transform=\"rotate(0, 129.898, 1504.97)\" x=\"129.898\" y=\"1504.97\">0.0</text>\n",
       "</g>\n",
       "<g clip-path=\"url(#clip8600)\">\n",
       "<text style=\"fill:#000000; fill-opacity:1; font-family:Arial,Helvetica Neue,Helvetica,sans-serif; font-size:48px; text-anchor:end;\" transform=\"rotate(0, 129.898, 1144.92)\" x=\"129.898\" y=\"1144.92\">0.1</text>\n",
       "</g>\n",
       "<g clip-path=\"url(#clip8600)\">\n",
       "<text style=\"fill:#000000; fill-opacity:1; font-family:Arial,Helvetica Neue,Helvetica,sans-serif; font-size:48px; text-anchor:end;\" transform=\"rotate(0, 129.898, 784.859)\" x=\"129.898\" y=\"784.859\">0.2</text>\n",
       "</g>\n",
       "<g clip-path=\"url(#clip8600)\">\n",
       "<text style=\"fill:#000000; fill-opacity:1; font-family:Arial,Helvetica Neue,Helvetica,sans-serif; font-size:48px; text-anchor:end;\" transform=\"rotate(0, 129.898, 424.802)\" x=\"129.898\" y=\"424.802\">0.3</text>\n",
       "</g>\n",
       "<g clip-path=\"url(#clip8600)\">\n",
       "<text style=\"fill:#000000; fill-opacity:1; font-family:Arial,Helvetica Neue,Helvetica,sans-serif; font-size:48px; text-anchor:end;\" transform=\"rotate(0, 129.898, 64.7441)\" x=\"129.898\" y=\"64.7441\">0.4</text>\n",
       "</g>\n",
       "<path clip-path=\"url(#clip8602)\" d=\"\n",
       "M647.696 1486.05 L651.911 1485.84 L656.125 1485.61 L695.095 1481.49 L734.065 1470.27 L757.485 1456.74 L780.904 1434.77 L800.705 1406.93 L820.506 1367.91 L831.26 1341.1 \n",
       "  L842.015 1309.8 L852.769 1273.65 L863.524 1232.35 L873.439 1189.52 L883.354 1142.03 L893.268 1089.88 L903.183 1033.19 L924.443 897.592 L945.702 746.799 L970.333 562.898 \n",
       "  L994.964 384.182 L1005.91 311.184 L1016.85 244.463 L1027.8 185.591 L1038.74 136.005 L1048.34 101.156 L1057.94 75.1029 L1067.53 58.369 L1077.13 51.2944 L1087.6 54.752 \n",
       "  L1098.06 69.7754 L1108.52 96.0014 L1118.99 132.802 L1129.51 179.612 L1140.04 235.152 L1150.57 298.158 L1161.09 367.25 L1184.37 534.365 L1207.64 708.527 L1229.79 868.169 \n",
       "  L1251.93 1012.7 L1263.45 1079.88 L1274.96 1140.98 L1286.48 1195.8 L1297.99 1244.36 L1317.37 1312.48 L1336.76 1364.98 L1360.42 1411.17 L1384.09 1441.88 L1406.33 1460.42 \n",
       "  L1428.58 1472 L1464.22 1481.62 L1499.86 1485.46 L1505.34 1485.78 L1510.83 1486.05 L1510.83 1487.47 L1505.34 1487.47 L1499.86 1487.47 L1464.22 1487.47 L1428.58 1487.47 \n",
       "  L1406.33 1487.47 L1384.09 1487.47 L1360.42 1487.47 L1336.76 1487.47 L1317.37 1487.47 L1297.99 1487.47 L1286.48 1487.47 L1274.96 1487.47 L1263.45 1487.47 L1251.93 1487.47 \n",
       "  L1229.79 1487.47 L1207.64 1487.47 L1184.37 1487.47 L1161.09 1487.47 L1150.57 1487.47 L1140.04 1487.47 L1129.51 1487.47 L1118.99 1487.47 L1108.52 1487.47 L1098.06 1487.47 \n",
       "  L1087.6 1487.47 L1077.13 1487.47 L1067.53 1487.47 L1057.94 1487.47 L1048.34 1487.47 L1038.74 1487.47 L1027.8 1487.47 L1016.85 1487.47 L1005.91 1487.47 L994.964 1487.47 \n",
       "  L970.333 1487.47 L945.702 1487.47 L924.443 1487.47 L903.183 1487.47 L893.268 1487.47 L883.354 1487.47 L873.439 1487.47 L863.524 1487.47 L852.769 1487.47 L842.015 1487.47 \n",
       "  L831.26 1487.47 L820.506 1487.47 L800.705 1487.47 L780.904 1487.47 L757.485 1487.47 L734.065 1487.47 L695.095 1487.47 L656.125 1487.47 L651.911 1487.47 L647.696 1487.47 \n",
       "   Z\n",
       "  \" fill=\"#add8e6\" fill-rule=\"evenodd\" fill-opacity=\"0.6\"/>\n",
       "<polyline clip-path=\"url(#clip8602)\" style=\"stroke:#add8e6; stroke-width:4; stroke-opacity:0.6; fill:none\" points=\"\n",
       "  647.696,1486.05 651.911,1485.84 656.125,1485.61 695.095,1481.49 734.065,1470.27 757.485,1456.74 780.904,1434.77 800.705,1406.93 820.506,1367.91 831.26,1341.1 \n",
       "  842.015,1309.8 852.769,1273.65 863.524,1232.35 873.439,1189.52 883.354,1142.03 893.268,1089.88 903.183,1033.19 924.443,897.592 945.702,746.799 970.333,562.898 \n",
       "  994.964,384.182 1005.91,311.184 1016.85,244.463 1027.8,185.591 1038.74,136.005 1048.34,101.156 1057.94,75.1029 1067.53,58.369 1077.13,51.2944 1087.6,54.752 \n",
       "  1098.06,69.7754 1108.52,96.0014 1118.99,132.802 1129.51,179.612 1140.04,235.152 1150.57,298.158 1161.09,367.25 1184.37,534.365 1207.64,708.527 1229.79,868.169 \n",
       "  1251.93,1012.7 1263.45,1079.88 1274.96,1140.98 1286.48,1195.8 1297.99,1244.36 1317.37,1312.48 1336.76,1364.98 1360.42,1411.17 1384.09,1441.88 1406.33,1460.42 \n",
       "  1428.58,1472 1464.22,1481.62 1499.86,1485.46 1505.34,1485.78 1510.83,1486.05 \n",
       "  \"/>\n",
       "<path clip-path=\"url(#clip8602)\" d=\"\n",
       "M216.13 1486.76 L224.559 1486.66 L232.988 1486.54 L310.928 1484.48 L388.868 1478.87 L435.707 1472.11 L482.546 1461.12 L522.147 1447.2 L561.749 1427.69 L583.258 1414.29 \n",
       "  L604.767 1398.64 L626.277 1380.56 L647.786 1359.91 L667.615 1338.5 L687.445 1314.75 L707.274 1288.68 L727.104 1260.33 L769.623 1192.53 L812.142 1117.14 L861.404 1025.19 \n",
       "  L910.666 935.828 L932.555 899.329 L954.445 865.969 L976.334 836.533 L998.223 811.74 L1017.42 794.315 L1036.61 781.289 L1055.81 772.922 L1075 769.385 L1095.93 771.113 \n",
       "  L1116.86 778.625 L1137.79 791.738 L1158.71 810.138 L1179.76 833.543 L1200.82 861.313 L1221.87 892.816 L1242.92 927.362 L1289.47 1010.92 L1336.02 1098 L1380.32 1177.82 \n",
       "  L1424.61 1250.09 L1447.63 1283.68 L1470.66 1314.23 L1493.69 1341.64 L1516.71 1365.92 L1555.48 1399.98 L1594.25 1426.23 L1641.58 1449.32 L1688.91 1464.68 L1733.4 1473.95 \n",
       "  L1777.9 1479.74 L1849.18 1484.55 L1920.46 1486.47 L1931.43 1486.63 L1942.39 1486.76 L1942.39 1487.47 L1931.43 1487.47 L1920.46 1487.47 L1849.18 1487.47 L1777.9 1487.47 \n",
       "  L1733.4 1487.47 L1688.91 1487.47 L1641.58 1487.47 L1594.25 1487.47 L1555.48 1487.47 L1516.71 1487.47 L1493.69 1487.47 L1470.66 1487.47 L1447.63 1487.47 L1424.61 1487.47 \n",
       "  L1380.32 1487.47 L1336.02 1487.47 L1289.47 1487.47 L1242.92 1487.47 L1221.87 1487.47 L1200.82 1487.47 L1179.76 1487.47 L1158.71 1487.47 L1137.79 1487.47 L1116.86 1487.47 \n",
       "  L1095.93 1487.47 L1075 1487.47 L1055.81 1487.47 L1036.61 1487.47 L1017.42 1487.47 L998.223 1487.47 L976.334 1487.47 L954.445 1487.47 L932.555 1487.47 L910.666 1487.47 \n",
       "  L861.404 1487.47 L812.142 1487.47 L769.623 1487.47 L727.104 1487.47 L707.274 1487.47 L687.445 1487.47 L667.615 1487.47 L647.786 1487.47 L626.277 1487.47 L604.767 1487.47 \n",
       "  L583.258 1487.47 L561.749 1487.47 L522.147 1487.47 L482.546 1487.47 L435.707 1487.47 L388.868 1487.47 L310.928 1487.47 L232.988 1487.47 L224.559 1487.47 L216.13 1487.47 \n",
       "   Z\n",
       "  \" fill=\"#ffa500\" fill-rule=\"evenodd\" fill-opacity=\"0.6\"/>\n",
       "<polyline clip-path=\"url(#clip8602)\" style=\"stroke:#ffa500; stroke-width:4; stroke-opacity:0.6; fill:none\" points=\"\n",
       "  216.13,1486.76 224.559,1486.66 232.988,1486.54 310.928,1484.48 388.868,1478.87 435.707,1472.11 482.546,1461.12 522.147,1447.2 561.749,1427.69 583.258,1414.29 \n",
       "  604.767,1398.64 626.277,1380.56 647.786,1359.91 667.615,1338.5 687.445,1314.75 707.274,1288.68 727.104,1260.33 769.623,1192.53 812.142,1117.14 861.404,1025.19 \n",
       "  910.666,935.828 932.555,899.329 954.445,865.969 976.334,836.533 998.223,811.74 1017.42,794.315 1036.61,781.289 1055.81,772.922 1075,769.385 1095.93,771.113 \n",
       "  1116.86,778.625 1137.79,791.738 1158.71,810.138 1179.76,833.543 1200.82,861.313 1221.87,892.816 1242.92,927.362 1289.47,1010.92 1336.02,1098 1380.32,1177.82 \n",
       "  1424.61,1250.09 1447.63,1283.68 1470.66,1314.23 1493.69,1341.64 1516.71,1365.92 1555.48,1399.98 1594.25,1426.23 1641.58,1449.32 1688.91,1464.68 1733.4,1473.95 \n",
       "  1777.9,1479.74 1849.18,1484.55 1920.46,1486.47 1931.43,1486.63 1942.39,1486.76 \n",
       "  \"/>\n",
       "<path clip-path=\"url(#clip8602)\" d=\"\n",
       "M564.259 1486.76 L572.688 1486.66 L581.118 1486.54 L659.058 1484.48 L736.998 1478.87 L783.836 1472.11 L830.675 1461.12 L870.277 1447.2 L909.878 1427.69 L931.387 1414.29 \n",
       "  L952.897 1398.64 L974.406 1380.56 L995.915 1359.91 L1015.74 1338.5 L1035.57 1314.75 L1055.4 1288.68 L1075.23 1260.33 L1117.75 1192.53 L1160.27 1117.14 L1209.53 1025.19 \n",
       "  L1258.8 935.828 L1280.68 899.329 L1302.57 865.969 L1324.46 836.533 L1346.35 811.74 L1365.55 794.315 L1384.74 781.289 L1403.94 772.922 L1423.13 769.385 L1444.06 771.113 \n",
       "  L1464.99 778.625 L1485.91 791.738 L1506.84 810.138 L1527.89 833.543 L1548.95 861.313 L1570 892.816 L1591.05 927.362 L1637.6 1010.92 L1684.15 1098 L1728.44 1177.82 \n",
       "  L1772.74 1250.09 L1795.76 1283.68 L1818.79 1314.23 L1841.82 1341.64 L1864.84 1365.92 L1903.61 1399.98 L1942.38 1426.23 L1989.71 1449.32 L2037.04 1464.68 L2081.53 1473.95 \n",
       "  L2126.02 1479.74 L2197.3 1484.55 L2268.58 1486.47 L2279.55 1486.63 L2290.52 1486.76 L2290.52 1487.47 L2279.55 1487.47 L2268.58 1487.47 L2197.3 1487.47 L2126.02 1487.47 \n",
       "  L2081.53 1487.47 L2037.04 1487.47 L1989.71 1487.47 L1942.38 1487.47 L1903.61 1487.47 L1864.84 1487.47 L1841.82 1487.47 L1818.79 1487.47 L1795.76 1487.47 L1772.74 1487.47 \n",
       "  L1728.44 1487.47 L1684.15 1487.47 L1637.6 1487.47 L1591.05 1487.47 L1570 1487.47 L1548.95 1487.47 L1527.89 1487.47 L1506.84 1487.47 L1485.91 1487.47 L1464.99 1487.47 \n",
       "  L1444.06 1487.47 L1423.13 1487.47 L1403.94 1487.47 L1384.74 1487.47 L1365.55 1487.47 L1346.35 1487.47 L1324.46 1487.47 L1302.57 1487.47 L1280.68 1487.47 L1258.8 1487.47 \n",
       "  L1209.53 1487.47 L1160.27 1487.47 L1117.75 1487.47 L1075.23 1487.47 L1055.4 1487.47 L1035.57 1487.47 L1015.74 1487.47 L995.915 1487.47 L974.406 1487.47 L952.897 1487.47 \n",
       "  L931.387 1487.47 L909.878 1487.47 L870.277 1487.47 L830.675 1487.47 L783.836 1487.47 L736.998 1487.47 L659.058 1487.47 L581.118 1487.47 L572.688 1487.47 L564.259 1487.47 \n",
       "   Z\n",
       "  \" fill=\"#008000\" fill-rule=\"evenodd\" fill-opacity=\"0.6\"/>\n",
       "<polyline clip-path=\"url(#clip8602)\" style=\"stroke:#008000; stroke-width:4; stroke-opacity:0.6; fill:none\" points=\"\n",
       "  564.259,1486.76 572.688,1486.66 581.118,1486.54 659.058,1484.48 736.998,1478.87 783.836,1472.11 830.675,1461.12 870.277,1447.2 909.878,1427.69 931.387,1414.29 \n",
       "  952.897,1398.64 974.406,1380.56 995.915,1359.91 1015.74,1338.5 1035.57,1314.75 1055.4,1288.68 1075.23,1260.33 1117.75,1192.53 1160.27,1117.14 1209.53,1025.19 \n",
       "  1258.8,935.828 1280.68,899.329 1302.57,865.969 1324.46,836.533 1346.35,811.74 1365.55,794.315 1384.74,781.289 1403.94,772.922 1423.13,769.385 1444.06,771.113 \n",
       "  1464.99,778.625 1485.91,791.738 1506.84,810.138 1527.89,833.543 1548.95,861.313 1570,892.816 1591.05,927.362 1637.6,1010.92 1684.15,1098 1728.44,1177.82 \n",
       "  1772.74,1250.09 1795.76,1283.68 1818.79,1314.23 1841.82,1341.64 1864.84,1365.92 1903.61,1399.98 1942.38,1426.23 1989.71,1449.32 2037.04,1464.68 2081.53,1473.95 \n",
       "  2126.02,1479.74 2197.3,1484.55 2268.58,1486.47 2279.55,1486.63 2290.52,1486.76 \n",
       "  \"/>\n",
       "<path clip-path=\"url(#clip8600)\" d=\"\n",
       "M1840.04 372.684 L2280.76 372.684 L2280.76 130.764 L1840.04 130.764  Z\n",
       "  \" fill=\"#ffffff\" fill-rule=\"evenodd\" fill-opacity=\"1\"/>\n",
       "<polyline clip-path=\"url(#clip8600)\" style=\"stroke:#000000; stroke-width:4; stroke-opacity:1; fill:none\" points=\"\n",
       "  1840.04,372.684 2280.76,372.684 2280.76,130.764 1840.04,130.764 1840.04,372.684 \n",
       "  \"/>\n",
       "<path clip-path=\"url(#clip8600)\" d=\"\n",
       "M1864.04 215.436 L2008.04 215.436 L2008.04 167.052 L1864.04 167.052 L1864.04 215.436  Z\n",
       "  \" fill=\"#add8e6\" fill-rule=\"evenodd\" fill-opacity=\"0.6\"/>\n",
       "<polyline clip-path=\"url(#clip8600)\" style=\"stroke:#add8e6; stroke-width:4; stroke-opacity:0.6; fill:none\" points=\"\n",
       "  1864.04,167.052 2008.04,167.052 \n",
       "  \"/>\n",
       "<g clip-path=\"url(#clip8600)\">\n",
       "<text style=\"fill:#000000; fill-opacity:1; font-family:Arial,Helvetica Neue,Helvetica,sans-serif; font-size:48px; text-anchor:start;\" transform=\"rotate(0, 2032.04, 208.744)\" x=\"2032.04\" y=\"208.744\">E=0; V=1</text>\n",
       "</g>\n",
       "<path clip-path=\"url(#clip8600)\" d=\"\n",
       "M1864.04 275.916 L2008.04 275.916 L2008.04 227.532 L1864.04 227.532 L1864.04 275.916  Z\n",
       "  \" fill=\"#ffa500\" fill-rule=\"evenodd\" fill-opacity=\"0.6\"/>\n",
       "<polyline clip-path=\"url(#clip8600)\" style=\"stroke:#ffa500; stroke-width:4; stroke-opacity:0.6; fill:none\" points=\"\n",
       "  1864.04,227.532 2008.04,227.532 \n",
       "  \"/>\n",
       "<g clip-path=\"url(#clip8600)\">\n",
       "<text style=\"fill:#000000; fill-opacity:1; font-family:Arial,Helvetica Neue,Helvetica,sans-serif; font-size:48px; text-anchor:start;\" transform=\"rotate(0, 2032.04, 269.224)\" x=\"2032.04\" y=\"269.224\">E=0; V=2</text>\n",
       "</g>\n",
       "<path clip-path=\"url(#clip8600)\" d=\"\n",
       "M1864.04 336.396 L2008.04 336.396 L2008.04 288.012 L1864.04 288.012 L1864.04 336.396  Z\n",
       "  \" fill=\"#008000\" fill-rule=\"evenodd\" fill-opacity=\"0.6\"/>\n",
       "<polyline clip-path=\"url(#clip8600)\" style=\"stroke:#008000; stroke-width:4; stroke-opacity:0.6; fill:none\" points=\"\n",
       "  1864.04,288.012 2008.04,288.012 \n",
       "  \"/>\n",
       "<g clip-path=\"url(#clip8600)\">\n",
       "<text style=\"fill:#000000; fill-opacity:1; font-family:Arial,Helvetica Neue,Helvetica,sans-serif; font-size:48px; text-anchor:start;\" transform=\"rotate(0, 2032.04, 329.704)\" x=\"2032.04\" y=\"329.704\">E=3; V=2</text>\n",
       "</g>\n",
       "</svg>\n"
      ]
     },
     "execution_count": 2,
     "metadata": {},
     "output_type": "execute_result"
    }
   ],
   "source": [
    "plt = plot(0)\n",
    "plt1 = plot!(Normal(0,1),\n",
    "        legend=true, label=\"E=0; V=1\",\n",
    "        ylim=(0,0.4),\n",
    "        fill=0, α=0.6,\n",
    "        color=:lightblue)\n",
    "plt2 = plot!(Normal(0,2),\n",
    "        legend=true, label=\"E=0; V=2\",\n",
    "        ylim=(0,0.4),\n",
    "        fill=0, α=0.6,\n",
    "        color=:orange)\n",
    "plt3 = plot!(Normal(3,2),\n",
    "        legend=true, label=\"E=3; V=2\",\n",
    "        ylim=(0,0.4),\n",
    "        fill=0, α=0.6,\n",
    "        color=:green)"
   ]
  },
  {
   "cell_type": "markdown",
   "metadata": {},
   "source": [
    "The graph above draws three normal distributions. \n",
    "* The blue one and orange one has the same mean, but the orange one have higehr variance, making it more diverse hence more shorter and fatter. \n",
    "* The orange one and the green one have the same variance, but the green one has higer mean, so they are of the same shape, but the green one is like shifting towards right because of the higher mean."
   ]
  },
  {
   "cell_type": "markdown",
   "metadata": {},
   "source": [
    "The mean measures the center point of the random varible, whereas the variance measures the degree at which its values are round its mean. \n",
    "\n",
    "The mean is a location parameter for the distribution of $X$ because it indicates the balance point all possible outcomes scatter around, and variance of a random variable is a scale parameter for the distribution of $X$ because it indicates the \"shape\" of the distribution, whether it being tall*(concentrated)* or short*(spred out)*."
   ]
  },
  {
   "cell_type": "markdown",
   "metadata": {},
   "source": [
    "## Moments"
   ]
  },
  {
   "cell_type": "markdown",
   "metadata": {},
   "source": [
    "To gain intuition of the mean and variance of the random variable, we say a mean describes the position of balance of a bunch of numbers, and the variance describes how spred out they are. Do these full characterize a bunch of numbers? Let's take another example, $[1,2,3,-6]$ and $[-1,-2,-3,6]$ have same mean and variance but three of the former four numbers is positive and three of the latter negative.\n",
    "\n",
    "We can construct a new metrics, say, $d$, such that\n",
    "$$d=E(X^3)$$\n",
    "When more weights are added to negative part of the see-saw than to positive part, $d$ is negative and vice versa.\n",
    "\n",
    "Or another metrics like $c$, such that\n",
    "$$c=E[(X-\\mu_{X})^3]$$\n",
    "When more weights are added to the part whose values are smaller than mean than those to values bigger than mean, $c$ is negative and vice versa.\n",
    "\n",
    "By these metrics, we can split the real line at $0$ or at the mean, depending on our inclination, into two parts, and compare density associated with those two parts. The definition of $d$ is the expectation of $X$ to the third power, and the definition of $c$ is the expectation of *deviation from the mean to the third power*.\n",
    "\n",
    "We can actually by constructing expectation of higher power of the deviation from the mean cultivate new aspect of the distribution of a random variable. That is what we call **moments**."
   ]
  },
  {
   "cell_type": "markdown",
   "metadata": {},
   "source": [
    "### Definition 13 *k*-th Moment and *k*-th central Moment"
   ]
  },
  {
   "cell_type": "markdown",
   "metadata": {},
   "source": [
    "Depending on whether we choose $0$ or mean as benchmark as the central position, and the power to which the expectation of deviation is raised, there are two kinds of moments: *k*-th moment and *k*-th central moment.\n",
    "\n",
    "The *k*-th moment of random variable $X$ with PMF or PDF $f_{X}(x)$ is\n",
    "\n",
    "$$\n",
    "E\\left(X^{k}\\right)=\\left\\{\\begin{array}{ll}\n",
    "{\\sum_{x \\in \\Omega_{X}} x^{k} f_{X}(x),} & {\\text { if } X \\text { is a DRV }} \\\\\n",
    "{\\int_{-\\infty}^{\\infty} x^{k} f_{X}(x) d x,} & {\\text { if } X \\text { is a CRV }}\n",
    "\\end{array}\\right.\n",
    "$$\n",
    "where $\\Omega_{X}$ is the support of $X$.\n",
    "\n",
    "The *k*-th central moment of random variable $X$ with PMF or PDF $f_{X}(x)$ is\n",
    "\n",
    "$$\n",
    "E\\left(X-\\mu_{X}\\right)^{k}=\\left\\{\\begin{array}{ll}\n",
    "{\\sum_{x \\in \\Omega_{X}}\\left(x-\\mu_{X}\\right)^{k} f_{X}(x),} & {\\text { if } X \\text { is a DRV, }} \\\\\n",
    "{\\int_{-\\infty}^{\\infty}\\left(x-\\mu_{X}\\right)^{k} f_{X}(x) d x,} & {\\text { if } X \\text { is a CRV. }}\n",
    "\\end{array}\\right.\n",
    "$$\n",
    "\n",
    "In fact, $E(X)$ is the $1^{st}$ order moment of $X$, and $\\sigma_{X}^2$ is the $2^{nd}$ order central moment of $X$. The metrics $d$ and $c$ we defined before are $3^{rd}$ order moment and $3^{rd}$ central moment of $X$ respectively."
   ]
  }
 ],
 "metadata": {
  "kernelspec": {
   "display_name": "Julia 1.3.1",
   "language": "julia",
   "name": "julia-1.3"
  },
  "language_info": {
   "file_extension": ".jl",
   "mimetype": "application/julia",
   "name": "julia",
   "version": "1.3.1"
  }
 },
 "nbformat": 4,
 "nbformat_minor": 2
}
