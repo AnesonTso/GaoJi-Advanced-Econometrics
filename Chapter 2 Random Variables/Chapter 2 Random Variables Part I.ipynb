{
 "cells": [
  {
   "cell_type": "markdown",
   "metadata": {},
   "source": [
    "# Chapter 2 Random Variables Part I\n",
    "\n",
    "#### *Zhuo Jianchao* \n",
    "\n",
    "Feb 9, 2020 *Rev 1*"
   ]
  },
  {
   "cell_type": "markdown",
   "metadata": {},
   "source": [
    "## Random Variables"
   ]
  },
  {
   "cell_type": "markdown",
   "metadata": {},
   "source": [
    "For elements in sample space, is it tedious to keep notations like $HH, HT, TH, TT$? In many cases, we don't care specific outcomes, instead we care some characteristics associated with them. \n",
    "\n",
    "We can introduce an \"encoding mechanism\", say, $X(\\cdot)$, which takes into one possible outcome and produce one encoded number to transform different outcomes into integers, like\n",
    "\n",
    "$$\n",
    "X(HH)=1\\\\\n",
    "X(HT)=2\\\\\n",
    "X(TH)=3\\\\\n",
    "X(TT)=4$$\n",
    "\n",
    "Sometimes, this mechanism has analytical benefits. In an experiment to roll a two three times, the sample space is\n",
    "\n",
    "$$S=\\{HH,HT,TH,HH\\}$$\n",
    "\n",
    "If in this experiment, what we consider is how many times heads show up. We can follow textual intuition to encode like\n",
    "\n",
    "$$\n",
    "X(HH)=2\\\\\n",
    "X(HT)=1\\\\\n",
    "X(TH)=1\\\\\n",
    "X(TT)=0\\\\\n",
    "$$\n",
    "\n",
    "This \"encoding mechanism\" is called a **random variable**, which we'll give a formal definition, and discuss in more details. \n",
    "\n",
    "Before we can really dive into random variable, we first need to introduce some prerequisite concepts."
   ]
  },
  {
   "cell_type": "markdown",
   "metadata": {},
   "source": [
    "### Definition 1 Measurable Function"
   ]
  },
  {
   "cell_type": "markdown",
   "metadata": {},
   "source": [
    "Recall from Chapter 1 Part II, where we introduce the concept of *measurable space*. For every random experiment, we have a sample space $S$, and an associated $\\sigma$-algebra $\\mathbb{B}$, then $(S, \\mathbb{B})$ is a measurable space.\n",
    "\n",
    "Let's say there are two sample space $X$ and $Y$, and their corresponding $\\sigma$-algebra $\\mathcal{A}$ and $\\mathcal{B}$ respectively, then $(X,\\mathcal{A})$ and $(Y,\\mathcal{B})$ are two measurable space. \n",
    "\n",
    ">A function $f: X \\rightarrow Y$ is $(\\mathcal{A}, \\mathcal{B})$-measurable if and only if\n",
    ">$$f^{-1}(B) \\in \\mathcal{A} \\text{ for every } B \\in \\mathcal{B}$$\n",
    "\n",
    "Axiomatical statement looks abstract and overwhelming. We can instead impose more practical meanings on these symbols, and try to better understand them."
   ]
  },
  {
   "cell_type": "markdown",
   "metadata": {},
   "source": [
    "### Example 1.1"
   ]
  },
  {
   "cell_type": "markdown",
   "metadata": {},
   "source": [
    "Let's roll a dice once with three sides, $1, 2, 3$ respectively. The sample space for this random experiment is $X$, then\n",
    "$$X=\\{1,2,3\\}$$\n",
    "\n",
    "The $\\sigma$-algebra associated with $X$ is $\\mathcal{A}$, then\n",
    "$$\\mathcal{A}=\\{\\emptyset, \\{1\\}, \\{2\\}, \\{3\\}, \\{1,2\\}, \\{1,3\\}, \\{2,3\\}, \\{1,2,3\\}\\}$$\n",
    "\n",
    "So $(X,\\mathcal{A})$ is a measurable space.\n",
    "\n",
    "If we care how many times $1$ shows up, then the new sample space  $Y$ is now\n",
    "$$Y=\\{\\emptyset, \\{0\\}, \\{1\\}, \\{0,1\\}\\}$$\n",
    "\n",
    "And the $\\sigma$-algebra associated with $Y$, $\\mathcal{B}$ is\n",
    "\n",
    "$$\\mathcal{B}=\\{\\emptyset, \\{0\\}, \\{1\\}, \\{0,1\\}\\}$$\n",
    "\n",
    "Now we defind a function $f(\\cdot)$ to transform sample space $X$ to $Y$ by counting how many times head shows up in each element of $\\mathcal{A}$ by the following rules\n",
    "\n",
    "$$ \\begin{align}\n",
    "f(\\emptyset)=\\emptyset \\tag{1} \\\\\n",
    "f(\\{1\\})=1 \\tag{2}\\\\\n",
    "f(\\{2\\})=0 \\\\\n",
    "f(\\{3\\})=0 \\\\\n",
    "f(\\{1,2\\})=\\{0,1\\} \\tag{3}\\\\\n",
    "f(\\{1,3\\})=\\{0,1\\} \\\\\n",
    "f(\\{2,3\\})=0 \\\\\n",
    "f(\\{1,2,3\\})=\\{0,1\\}\n",
    "\\end{align}\n",
    "$$\n",
    "\n",
    "Take three of them to illustrate the transforming rules, \n",
    "* $(1)$ means we can't get something out of nothing. An event of nothing happening is still an event of nothing happening in other sample space;\n",
    "* $(2)$ tells us the event of the number rolled being $1$ in $\\mathcal{A}$ is the event that the number of head is $1$ in $\\mathcal{B}$;\n",
    "* $(3)$ indicates that the event of the number roll is $1$ **or** $2$ in $\\mathcal{A}$ is the event that the number of head is $0$ or $1$ in $\\mathcal{B}$.\n",
    "\n",
    "All these rules follow same interpretations.\n",
    "\n",
    "Why do we transform every element in the $\\sigma$-algebra instead of basic outcome in sample space?\n",
    "> Recall how probability function is defined where it is defined on the measurable sets, **events**, not to basic outcome, that's the reason why we are required to transform between elements of two $\\sigma$-algebra generated by two sample space separately if we are to transform one sample space into another.\n",
    "\n",
    "Notice the funtion $f$ transforms all elements of $\\mathcal{A}$ into elements of $\\mathcal{B}$. Now let's check the definition of measurable funtion which requires that a set of elements generated by every element in $\\mathcal{B}$ through the reverse transform is included in $\\mathcal{A}$.\n",
    "\n",
    "Still confusing? There are four elements in $\\mathcal{B}$, which we take reverse transform one by one.\n",
    "1. $\\emptyset$: $f^{-1}(\\emptyset)=\\emptyset \\in \\mathcal{A}$\n",
    "2. $\\{0\\}$: $f^{-1}(\\{0\\})=\\{2,3,\\{2,3\\}\\} \\subset \\mathcal{A}$\n",
    "3. $\\{1\\}$: $f^{-1}(\\{1\\})=\\{1\\} \\in \\mathcal{A}$\n",
    "4. $\\{0,1\\}$: $f^{-1}(\\{0,1\\})=\\{\\{1,2\\},\\{1,3\\}\\{1,2,3\\}\\} \\subset \\mathcal{A}$\n",
    "\n",
    "which satisfies the requirement, then we say the transform $f(\\cdot)$ is a **measurable function**.\n",
    "\n",
    "This function transforming $\\mathcal{A}$ generated by $X$ into $\\mathcal{B}$ generated by $Y$ is called **measurable** because the target space $\\mathcal{B}$ can be constructed using measurable sets in $\\mathcal{A}$, then $\\mathcal{B}$ is measurable.\n",
    "\n",
    "***Notice*** that a measurable function mapping one sample space into another only concerns properties of two $\\sigma$-algebra regardless of the probability function defined on it.\n",
    "\n",
    "The measurable function in this example is actually a **random variable**, with these knowledge we've learned so far, we can have a formal definition of it."
   ]
  },
  {
   "cell_type": "markdown",
   "metadata": {},
   "source": [
    "### Definition 2 Random Variable"
   ]
  },
  {
   "cell_type": "markdown",
   "metadata": {},
   "source": [
    "A random variable, $X(\\cdot)$ is a measurable function from the probability space $(S,\\mathbb{B},P)$ to the measurable space $(\\Omega, \\Sigma, P')$, where $\\Omega \\subset \\mathbb{R}$, $\\Sigma$ is the $\\sigma$-algebra generated by $\\Omega$ such that for each basic outcome $s \\in S$, there exits a corresponding unique real number  $X(s) \\subset \\Omega$.\n",
    "\n",
    "Specifically, $X: S \\rightarrow \\Omega$."
   ]
  },
  {
   "cell_type": "markdown",
   "metadata": {},
   "source": [
    "### Definition 3 Induced Probability Function"
   ]
  },
  {
   "cell_type": "markdown",
   "metadata": {},
   "source": [
    "We've mentioned that the measurability of a function only concerns the $\\sigma$-algebras instead of the probability measure defined on them. Here we should continue by discussing the probability function.\n",
    "\n",
    "Since the probability space $(\\Omega, \\Sigma, P')$ is constructed by $(S,\\mathbb{B},P)$, the probability function $P'$ defined on the transformed probability space can be induced from original probability space.\n",
    "\n",
    "Let's step back to our **example 1.1**, where we roll a trihedral dice. The sample space $S=\\{1,2,3\\}$.\n",
    "\n",
    "The $\\sigma$-algebra generated by $S$, $\\mathbb{B}$ is\n",
    "$$\\mathbb{B}= \\{\\emptyset, \\{1\\}, \\{2\\}, \\{3\\}, \\{1,2\\}, \\{1,3\\}, \\{2,3\\}, \\{1,2,3\\}\\}$$\n",
    "\n",
    "On the measurable space $(S,\\mathbb{B})$, define a probability function $P:\\mathbb{B} \\rightarrow [0,1]$, whose values are determined by this experiment's nature.\n",
    "\n",
    "$$\n",
    "P(\\emptyset)=0\\\\\n",
    "P(\\{1\\})=\\frac{1}{3}\\\\\n",
    "P(\\{2\\})=\\frac{1}{3}\\\\\n",
    "P(\\{3\\})=\\frac{1}{3}\\\\\n",
    "P(\\{1,2\\})=\\frac{2}{3}\\\\\n",
    "P(\\{1,3\\})=\\frac{2}{3}\\\\\n",
    "P(\\{2,3\\})=\\frac{2}{3}\\\\\n",
    "P(\\{1,2,3\\})=1\n",
    "$$\n",
    "\n",
    "What we care is the number of heads showing up, then we define a random variable $X:S \\rightarrow \\Omega \\subset \\mathbb{R}$, where $\\Omega=\\{0,1\\}$ whose basic outcomes are numbers of $1$ showing up.\n",
    "\n",
    "This random variable transforms one sample space into another by the following rules we've mentioned before.\n",
    "\n",
    "$$\n",
    "X(\\emptyset)=\\emptyset \\\\\n",
    "X(\\{1\\})=1 \\\\\n",
    "X(\\{2\\})=0 \\\\\n",
    "X(\\{3\\})=0 \\\\\n",
    "X(\\{1,2\\})=\\{0,1\\}\\\\\n",
    "X(\\{1,3\\})=\\{0,1\\} \\\\\n",
    "X(\\{2,3\\})=0 \\\\\n",
    "X(\\{1,2,3\\})=\\{0,1\\}\n",
    "$$\n",
    "\n",
    "\n",
    "And $\\sigma$-algebra generated by $\\Omega$, $\\Sigma$, is\n",
    "$$\\Sigma=\\{\\emptyset, \\{0\\}, \\{1\\}, \\{0,1\\}\\}$$\n",
    "\n",
    "On the measurable space $(\\Omega, \\Sigma)$, the probability function $P_{X}:\\Sigma \\rightarrow [0,1]$ of the random variable $X$ is induced by the probability function $P$.\n",
    "\n",
    "For any event $A \\subset \\Sigma$, $P_X (A)=P(s \\in S:X(s) \\in A)$\n",
    "\n",
    "There are four elements in $\\Sigma$, we consider one by one, \n",
    "1. $\\emptyset$: $P_X (\\emptyset)=0$\n",
    "2. $\\{0\\}$: $X(\\{2\\})=X(\\{3\\})=0$, then $P_X (\\{0\\})=P(\\{2\\})+P(\\{3\\})=\\frac{2}{3}$\n",
    "3. $\\{1\\}$: $X(\\{1\\})=1$, then $P_X (\\{1\\})=\\frac{1}{3}$\n",
    "4. $\\{0,1\\}$: $X(\\{2\\})=X(\\{3\\})=0, X(\\{1\\})=1$, then $P_X (\\{0,1\\})=P(\\{1\\})+P(\\{2\\})+P(\\{3\\})=1$\n",
    "\n",
    "The induced probability function $P_X (\\cdot)$ now assigns probability to all elements in $\\Sigma$."
   ]
  }
 ],
 "metadata": {
  "kernelspec": {
   "display_name": "Julia 1.3.1",
   "language": "julia",
   "name": "julia-1.3"
  },
  "language_info": {
   "file_extension": ".jl",
   "mimetype": "application/julia",
   "name": "julia",
   "version": "1.3.1"
  }
 },
 "nbformat": 4,
 "nbformat_minor": 2
}
