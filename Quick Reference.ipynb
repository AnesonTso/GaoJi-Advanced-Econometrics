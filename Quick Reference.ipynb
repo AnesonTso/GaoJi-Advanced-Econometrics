{
 "cells": [
  {
   "cell_type": "markdown",
   "metadata": {},
   "source": [
    "# Quick Reference for Terminology"
   ]
  },
  {
   "cell_type": "markdown",
   "metadata": {},
   "source": [
    "Please use `ctr + F` to locate the notebook which contains the terminology you're interested in. Simply by clicking the hyperlink, you'll open the corresponding notebook."
   ]
  },
  {
   "cell_type": "markdown",
   "metadata": {},
   "source": [
    "## Chapter\n",
    "\n",
    "1. Foundation of Probability Theory\n",
    "2. Random Variables"
   ]
  },
  {
   "cell_type": "markdown",
   "metadata": {},
   "source": [
    "## Chapter 1 Foundation of Probability Theory"
   ]
  },
  {
   "cell_type": "markdown",
   "metadata": {},
   "source": [
    "### [Part 1](https://github.com/AnesonTso/GaoJi-Advanced-Econometrics/blob/master/Chapter%201/Chapter%201%20Foundation%20of%20Probability%20Theory%20I.ipynb):  \n",
    "\n",
    "* random experiment\n",
    "* outcome\n",
    "* sample space\n",
    "* observation\n",
    "* event"
   ]
  },
  {
   "cell_type": "markdown",
   "metadata": {},
   "source": [
    "### [Part 2](https://github.com/AnesonTso/GaoJi-Advanced-Econometrics/blob/master/Chapter%201/Chapter%201%20Foundation%20of%20Probability%20Theory%20II.ipynb):\n",
    "\n",
    "* sigma algebra\n",
    "* measurable space\n",
    "* generated sigma algebra\n",
    "* smallest sigma algebra\n",
    "* probability function\n",
    "* probability space"
   ]
  },
  {
   "cell_type": "markdown",
   "metadata": {},
   "source": [
    "### [Part 3](https://github.com/AnesonTso/GaoJi-Advanced-Econometrics/blob/master/Chapter%201/Chapter%201%20Foundation%20of%20Probability%20Theory%20III.ipynb):\n",
    "\n",
    "* fundamental theorem of counting\n",
    "* factorial \n",
    "* permutation\n",
    "* combination"
   ]
  },
  {
   "cell_type": "markdown",
   "metadata": {},
   "source": [
    "### [Part 4](https://github.com/AnesonTso/GaoJi-Advanced-Econometrics/blob/master/Chapter%201/Chapter%201%20Foundation%20of%20Probability%20Theory%20IV.ipynb):\n",
    "\n",
    "* conditional probability\n",
    "* multiplication rule\n",
    "* partition\n",
    "* rule of total probability"
   ]
  },
  {
   "cell_type": "markdown",
   "metadata": {},
   "source": [
    "### [Part 5](https://github.com/AnesonTso/GaoJi-Advanced-Econometrics/blob/master/Chapter%201/Chapter%201%20Foundation%20of%20Probability%20Theory%20V.ipynb):\n",
    "\n",
    "* Bayes' theorem\n",
    "* prior probability\n",
    "* posterior probability\n",
    "* update\n",
    "* independent"
   ]
  },
  {
   "cell_type": "markdown",
   "metadata": {},
   "source": [
    "## Chapter 2 Random Variables"
   ]
  },
  {
   "cell_type": "markdown",
   "metadata": {},
   "source": [
    "### [Part 1](https://github.com/AnesonTso/GaoJi-Advanced-Econometrics/blob/master/Chapter%202%20Random%20Variables/Chapter%202%20Random%20Variables%20Part%20I.ipynb):\n",
    "\n",
    "* random variable\n",
    "* measurable function\n",
    "* induced probability function"
   ]
  },
  {
   "cell_type": "markdown",
   "metadata": {},
   "source": [
    "### [Part 2](https://github.com/AnesonTso/GaoJi-Advanced-Econometrics/blob/master/Chapter%202%20Random%20Variables/Chapter%202%20Random%20Variables%20Part%20II.ipynb):\n",
    "\n",
    "* uniform distribution\n",
    "* cumulative distribution function\n",
    "* identical distribution"
   ]
  },
  {
   "cell_type": "markdown",
   "metadata": {},
   "source": [
    "### [Part 3](https://github.com/AnesonTso/GaoJi-Advanced-Econometrics/blob/master/Chapter%202%20Random%20Variables/Chapter%202%20Random%20Variables%20Part%20III.ipynb):\n",
    "\n",
    "* discrete random variables(DRV)\n",
    "* probability mass function(PMF)\n",
    "* support\n",
    "* continuous random variable(CRV)\n",
    "* probability density function(PDF)"
   ]
  },
  {
   "cell_type": "markdown",
   "metadata": {},
   "source": [
    "### [Part 4](https://github.com/AnesonTso/GaoJi-Advanced-Econometrics/blob/master/Chapter%202%20Random%20Variables/Chapter%202%20Random%20Variables%20Part%20VI.ipynb):\n",
    "\n",
    "* function of random variable"
   ]
  },
  {
   "cell_type": "markdown",
   "metadata": {},
   "source": [
    "### [Part 5](https://github.com/AnesonTso/GaoJi-Advanced-Econometrics/blob/master/Chapter%202%20Random%20Variables/Chapter%202%20Random%20Variables%20Part%20V.ipynb):\n",
    "\n",
    "* mathematical expectations\n",
    "* variance\n",
    "* standard deviation\n",
    "* moment\n",
    "* central moment"
   ]
  },
  {
   "cell_type": "markdown",
   "metadata": {},
   "source": [
    "### [Part 6](https://github.com/AnesonTso/GaoJi-Advanced-Econometrics/blob/master/Chapter%202%20Random%20Variables/Chapter%202%20Random%20Variables%20Part%20VI.ipynb):\n",
    "\n",
    "* moment generating function\n",
    "* characteristic function"
   ]
  }
 ],
 "metadata": {
  "kernelspec": {
   "display_name": "Python 3",
   "language": "python",
   "name": "python3"
  },
  "language_info": {
   "codemirror_mode": {
    "name": "ipython",
    "version": 3
   },
   "file_extension": ".py",
   "mimetype": "text/x-python",
   "name": "python",
   "nbconvert_exporter": "python",
   "pygments_lexer": "ipython3",
   "version": "3.7.4"
  }
 },
 "nbformat": 4,
 "nbformat_minor": 2
}
